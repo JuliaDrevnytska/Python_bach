{
  "nbformat": 4,
  "nbformat_minor": 0,
  "metadata": {
    "colab": {
      "provenance": [],
      "authorship_tag": "ABX9TyMcWBD+lZQGfcpT1sGd/jWm",
      "include_colab_link": true
    },
    "kernelspec": {
      "name": "python3",
      "display_name": "Python 3"
    },
    "language_info": {
      "name": "python"
    }
  },
  "cells": [
    {
      "cell_type": "markdown",
      "metadata": {
        "id": "view-in-github",
        "colab_type": "text"
      },
      "source": [
        "<a href=\"https://colab.research.google.com/github/JuliaDrevnytska/pythonProject4/blob/main/python_practice_4.ipynb.ipynb\" target=\"_parent\"><img src=\"https://colab.research.google.com/assets/colab-badge.svg\" alt=\"Open In Colab\"/></a>"
      ]
    },
    {
      "cell_type": "markdown",
      "source": [
        "I. Functions. Arguments."
      ],
      "metadata": {
        "id": "PqMS1Q5H1hHg"
      }
    },
    {
      "cell_type": "markdown",
      "source": [
        "1. Назвіть основні 4 смислові частини, з яких складається функція."
      ],
      "metadata": {
        "id": "qjXo2uu81oqO"
      }
    },
    {
      "cell_type": "markdown",
      "source": [
        "Назва, параметри, тіло, значення\n"
      ],
      "metadata": {
        "id": "adLHfZsj1jIg"
      }
    },
    {
      "cell_type": "markdown",
      "source": [
        "2. Визначте функцію, що приймає 2 аргументи та повертає результат ділення 1го аргумента на інший."
      ],
      "metadata": {
        "id": "sEQ1Tk-n1hTr"
      }
    },
    {
      "cell_type": "code",
      "source": [
        "def division(a, b):\n",
        "  return a / b\n",
        "\n",
        "print(division(36, 6))"
      ],
      "metadata": {
        "colab": {
          "base_uri": "https://localhost:8080/"
        },
        "id": "RZgUNuc91kYT",
        "outputId": "2a42b5b4-182c-4a83-add7-cfaec5ae388c"
      },
      "execution_count": 2,
      "outputs": [
        {
          "output_type": "stream",
          "name": "stdout",
          "text": [
            "6.0\n"
          ]
        }
      ]
    },
    {
      "cell_type": "markdown",
      "source": [
        "3. Викличте вище визначену функцію, де другий аргумент дорівнює 0."
      ],
      "metadata": {
        "id": "EtA0YN2d1hXU"
      }
    },
    {
      "cell_type": "code",
      "source": [
        "print(division(36, 0))"
      ],
      "metadata": {
        "colab": {
          "base_uri": "https://localhost:8080/",
          "height": 241
        },
        "id": "bHbz4qdM2T6U",
        "outputId": "ec59b6fa-4045-43d8-97f6-4153c7a9e173"
      },
      "execution_count": 6,
      "outputs": [
        {
          "output_type": "error",
          "ename": "ZeroDivisionError",
          "evalue": "division by zero",
          "traceback": [
            "\u001b[0;31m---------------------------------------------------------------------------\u001b[0m",
            "\u001b[0;31mZeroDivisionError\u001b[0m                         Traceback (most recent call last)",
            "\u001b[0;32m<ipython-input-6-792b53189605>\u001b[0m in \u001b[0;36m<cell line: 1>\u001b[0;34m()\u001b[0m\n\u001b[0;32m----> 1\u001b[0;31m \u001b[0mprint\u001b[0m\u001b[0;34m(\u001b[0m\u001b[0mdivision\u001b[0m\u001b[0;34m(\u001b[0m\u001b[0;36m36\u001b[0m\u001b[0;34m,\u001b[0m \u001b[0;36m0\u001b[0m\u001b[0;34m)\u001b[0m\u001b[0;34m)\u001b[0m\u001b[0;34m\u001b[0m\u001b[0;34m\u001b[0m\u001b[0m\n\u001b[0m",
            "\u001b[0;32m<ipython-input-2-ad789b26fece>\u001b[0m in \u001b[0;36mdivision\u001b[0;34m(a, b)\u001b[0m\n\u001b[1;32m      1\u001b[0m \u001b[0;32mdef\u001b[0m \u001b[0mdivision\u001b[0m\u001b[0;34m(\u001b[0m\u001b[0ma\u001b[0m\u001b[0;34m,\u001b[0m \u001b[0mb\u001b[0m\u001b[0;34m)\u001b[0m\u001b[0;34m:\u001b[0m\u001b[0;34m\u001b[0m\u001b[0;34m\u001b[0m\u001b[0m\n\u001b[0;32m----> 2\u001b[0;31m   \u001b[0;32mreturn\u001b[0m \u001b[0ma\u001b[0m \u001b[0;34m/\u001b[0m \u001b[0mb\u001b[0m\u001b[0;34m\u001b[0m\u001b[0;34m\u001b[0m\u001b[0m\n\u001b[0m\u001b[1;32m      3\u001b[0m \u001b[0;34m\u001b[0m\u001b[0m\n\u001b[1;32m      4\u001b[0m \u001b[0mprint\u001b[0m\u001b[0;34m(\u001b[0m\u001b[0mdivision\u001b[0m\u001b[0;34m(\u001b[0m\u001b[0;36m36\u001b[0m\u001b[0;34m,\u001b[0m \u001b[0;36m6\u001b[0m\u001b[0;34m)\u001b[0m\u001b[0;34m)\u001b[0m\u001b[0;34m\u001b[0m\u001b[0;34m\u001b[0m\u001b[0m\n",
            "\u001b[0;31mZeroDivisionError\u001b[0m: division by zero"
          ]
        }
      ]
    },
    {
      "cell_type": "markdown",
      "source": [
        "4. Перевизначте функцію так, щоби у випадку ділення на 0 функція повертала None, а в решті випадків - результат розрахунків."
      ],
      "metadata": {
        "id": "_9Xv5Ekj1hbF"
      }
    },
    {
      "cell_type": "code",
      "source": [
        "def division(a, b):\n",
        "  if b == 0:\n",
        "    return None\n",
        "  else:\n",
        "    return (a / b)\n",
        "\n",
        "print(division(36, 6))\n",
        "print(division(36, 0))\n"
      ],
      "metadata": {
        "colab": {
          "base_uri": "https://localhost:8080/"
        },
        "id": "6iiXe2uD2lTn",
        "outputId": "52beb59f-b3de-40cc-e991-0cbe2257cbc5"
      },
      "execution_count": 7,
      "outputs": [
        {
          "output_type": "stream",
          "name": "stdout",
          "text": [
            "6.0\n",
            "None\n"
          ]
        }
      ]
    },
    {
      "cell_type": "markdown",
      "source": [
        "5. Визначте функцію, що віднімає одне число від іншого (підказка: це буде 2 аргументи функції). При чому, якщо не визначити, скільки саме має бути віднято від числа, за замовчуванням має відніматися 1. Викличте функцію, передаючи тільки один аргумент."
      ],
      "metadata": {
        "id": "zPWf8wgn2vZ-"
      }
    },
    {
      "cell_type": "code",
      "source": [
        "def subtract(a, b=1):\n",
        "  return a - b\n",
        "\n",
        "print(subtract(6))"
      ],
      "metadata": {
        "colab": {
          "base_uri": "https://localhost:8080/"
        },
        "id": "AmIvBlcX2-ju",
        "outputId": "7b16e8b1-469c-41ac-9631-da3ae3a7ac93"
      },
      "execution_count": 8,
      "outputs": [
        {
          "output_type": "stream",
          "name": "stdout",
          "text": [
            "5\n"
          ]
        }
      ]
    },
    {
      "cell_type": "markdown",
      "source": [
        "6. Визначте функцію, яка приймає iterable (ітерабельний обʼєкт, напр. список), що складається з 7ми рядкових значень - назв погодних умов (напр. \"sunny\") за кожен день у тижні. Повертає функція словник, де ключами є рядки з погодними умовами, а значеннями - кількість разів, скільки дана погода була протягом тижня (напр. {'sunny': 1, ...}). Викличте цю функцію та виведіть результат її роботи на екран."
      ],
      "metadata": {
        "id": "Z6qgGDt72zFn"
      }
    },
    {
      "cell_type": "code",
      "source": [
        "def weather(weather_list):\n",
        "  dict_weather = dict()\n",
        "  for f in weather_list:\n",
        "    if f not in dict_weather:\n",
        "      dict_weather[f] = 1\n",
        "    else:\n",
        "      dict_weather[f] += 1\n",
        "  return dict_weather\n",
        "\n",
        "weather_list = [\"snowy\", \"cloudy\", \"sunny\", \"rainy\", \"stormy\", \"snowy\", \"cloudy\"]\n",
        "print(weather(weather_list))"
      ],
      "metadata": {
        "colab": {
          "base_uri": "https://localhost:8080/"
        },
        "id": "lgpEIMgS3L-8",
        "outputId": "d51439ef-95cc-455b-c7b0-0bd77d546ca4"
      },
      "execution_count": 9,
      "outputs": [
        {
          "output_type": "stream",
          "name": "stdout",
          "text": [
            "{'snowy': 2, 'cloudy': 2, 'sunny': 1, 'rainy': 1, 'stormy': 1}\n"
          ]
        }
      ]
    },
    {
      "cell_type": "markdown",
      "source": [
        "7. Напишіть програму, яка б шукала необхідне число у впорядкованому списку цілочислених значень, де число має вводитись з консолі. власне алгоритм пошуку винесений в окрему функцію, яка повертає булеве значення (знайдено число - True, не знайдено - False). в залежності від результату функції, виведіть на екран повідомлення про успішний або ж неуспішний пошук. Зауваження: використовувати оператор in заборонено."
      ],
      "metadata": {
        "id": "o-CDI0Ft23kc"
      }
    },
    {
      "cell_type": "code",
      "source": [
        "def number_search(list_number, number):\n",
        "    left = 0\n",
        "    right = len(list_number) - 1\n",
        "\n",
        "    while left <= right:\n",
        "        mid = (left + right) // 2\n",
        "        if list_number[mid] == number:\n",
        "            return True\n",
        "        elif list_number[mid] < number:\n",
        "            left = mid + 1\n",
        "        else:\n",
        "            right = mid - 1\n",
        "\n",
        "    return False\n",
        "\n",
        "list_numbers = [5, 10, 15, 21, 31, 43, 47, 51]\n",
        "print(number_search(list_numbers, 31))"
      ],
      "metadata": {
        "colab": {
          "base_uri": "https://localhost:8080/"
        },
        "id": "EsExsKQ94ql7",
        "outputId": "9c42df7d-ffa9-458c-ed99-0a7e825ade99"
      },
      "execution_count": 13,
      "outputs": [
        {
          "output_type": "stream",
          "name": "stdout",
          "text": [
            "True\n"
          ]
        }
      ]
    },
    {
      "cell_type": "markdown",
      "source": [
        "II. Lambda functions."
      ],
      "metadata": {
        "id": "agg-YNP15k4Z"
      }
    },
    {
      "cell_type": "markdown",
      "source": [
        "8. В яких випадках варто використовувати лямбда-функції?"
      ],
      "metadata": {
        "id": "CpxhAOqXTicg"
      }
    },
    {
      "cell_type": "markdown",
      "source": [
        "Коли потрібно коротко і лаконічно передати інформацію"
      ],
      "metadata": {
        "id": "CYaWcezUTkqK"
      }
    },
    {
      "cell_type": "markdown",
      "source": [
        "9.  Визначте список з рядками. Після цього визначте анонімну функцію для отримання першого символу у верхньому регістрі для кожного рядка списку. Підказка: використовуйте анонімну функцію в якості агрумента до вбудованої ф-ції, яка створена для застосування функцій над iterable обʼєктами. Результат виведіть на екран у вигляді кортежу."
      ],
      "metadata": {
        "id": "RgYrdnZnU-A_"
      }
    },
    {
      "cell_type": "code",
      "source": [
        "list_new = [\"ab\", \"bc\", \"cd\", \"de\", \"ef\", \"fg\"]\n",
        "get_upper = lambda str : str[0].upper()\n",
        "\n",
        "print(tuple(map(get_upper, list_new)))"
      ],
      "metadata": {
        "colab": {
          "base_uri": "https://localhost:8080/"
        },
        "id": "f0GFTW-RVBLR",
        "outputId": "04517acb-7a22-40e5-9d8a-0767ba946f99"
      },
      "execution_count": 2,
      "outputs": [
        {
          "output_type": "stream",
          "name": "stdout",
          "text": [
            "('A', 'B', 'C', 'D', 'E', 'F')\n"
          ]
        }
      ]
    },
    {
      "cell_type": "markdown",
      "source": [
        "10.Визначте список з числовими значеннями (і цілими, і з рухомою комою). а) Відфільтруйте всі числа, які діляться націло на 3 за допомогою вбудованої функції та анонімної функції в якості аргумента). Збережіть результат у змінній, не приводяти явно до будь-якого типу. б) Використовуючи результат на кроці 12.а у якості аргументу, та за допомогою лямбда-функції в якості іншого аргументу до вбудованої функції, додайте до кожного елементу число 1 та опісля зведіть у квадрат. Остаточний результат приведіть явно до списку та виведіть на екран."
      ],
      "metadata": {
        "id": "USnPN8ohVjeg"
      }
    },
    {
      "cell_type": "code",
      "source": [
        "list_nums = [10, 7.3, 15, -5.5, -6, 7, 10, 12, -1, 0, 8.4, 13, -6,6]\n",
        "filtered_nums = filter(lambda num: num % 3 == 0, list_nums)\n",
        "modified_nums = list(map(lambda num: (num + 1) ** 2, filtered_nums))\n",
        "\n",
        "print(modified_nums)"
      ],
      "metadata": {
        "colab": {
          "base_uri": "https://localhost:8080/"
        },
        "id": "hMNhYYERVnTN",
        "outputId": "e55c071d-539a-47f2-b34f-29e17ce82677"
      },
      "execution_count": 3,
      "outputs": [
        {
          "output_type": "stream",
          "name": "stdout",
          "text": [
            "[256, 25, 169, 1, 25, 49]\n"
          ]
        }
      ]
    },
    {
      "cell_type": "markdown",
      "source": [
        "III. Decorators."
      ],
      "metadata": {
        "id": "JQkeGWhnWbg6"
      }
    },
    {
      "cell_type": "markdown",
      "source": [
        "11. Визначте декоратор, який би виводив у консоль повідомлення про початок роботи і назву функції (напр. my_function._ _ name _ _), а після відпрацювання функції - повідомлення про закінчення роботи і назву функції, що задекорована."
      ],
      "metadata": {
        "id": "wuNpEVzxWczy"
      }
    },
    {
      "cell_type": "code",
      "source": [
        "def my_decorator(func):\n",
        "    def wrapper(*args, **kwargs):\n",
        "        print(\"Початок роботи функції \", func.__name__)\n",
        "        result = func(*args, **kwargs)\n",
        "        print(\"Завершення роботи функції \", func.__name__)\n",
        "        return result\n",
        "    return wrapper\n",
        "\n",
        "@my_decorator\n",
        "def the_function():\n",
        "    print(\"Сама функція\")\n",
        "\n",
        "the_function()"
      ],
      "metadata": {
        "colab": {
          "base_uri": "https://localhost:8080/"
        },
        "id": "m4uy6R-nWfR0",
        "outputId": "dc4a960e-99a0-4778-8659-5766de9c8f23"
      },
      "execution_count": 6,
      "outputs": [
        {
          "output_type": "stream",
          "name": "stdout",
          "text": [
            "Початок роботи функції  the_function\n",
            "Сама функція\n",
            "Завершення роботи функції  the_function\n"
          ]
        }
      ]
    },
    {
      "cell_type": "markdown",
      "source": [
        "12. Задекоруйте двома різними способами функції з завдання 4 та 5 декоратором із завдання 11. (УВАГА: не декоруйте функції двічі!)."
      ],
      "metadata": {
        "id": "vU6MpmLOW9-E"
      }
    },
    {
      "cell_type": "code",
      "source": [
        "def my_decorator(func):\n",
        "    def wrapper(*args, **kwargs):\n",
        "        print(\"Початок роботи функції \", func.__name__)\n",
        "        result = func(*args, **kwargs)\n",
        "        print(\"Завершення роботи функції \", func.__name__)\n",
        "        return result\n",
        "    return wrapper\n",
        "\n",
        "@my_decorator\n",
        "def division(a, b):\n",
        "    if b == 0:\n",
        "        return None\n",
        "    else:\n",
        "        return (a / b)\n",
        "\n",
        "@my_decorator\n",
        "def subtract(a, b=1):\n",
        "    return a - b\n",
        "\n",
        "print(division(36, 6))\n",
        "print(division(36, 0))\n",
        "print(subtract(6))\n"
      ],
      "metadata": {
        "colab": {
          "base_uri": "https://localhost:8080/"
        },
        "id": "kLarb_BCW_mW",
        "outputId": "36bb0154-f375-43ab-8f73-876ba7b23449"
      },
      "execution_count": 27,
      "outputs": [
        {
          "output_type": "stream",
          "name": "stdout",
          "text": [
            "Початок роботи функції  division\n",
            "Завершення роботи функції  division\n",
            "6.0\n",
            "Початок роботи функції  division\n",
            "Завершення роботи функції  division\n",
            "None\n",
            "Початок роботи функції  subtract\n",
            "Завершення роботи функції  subtract\n",
            "5\n"
          ]
        }
      ]
    },
    {
      "cell_type": "markdown",
      "source": [
        "13. Викличте одну з задекорованих функцій і виведіть її результат на екран."
      ],
      "metadata": {
        "id": "8x68coevbF4r"
      }
    },
    {
      "cell_type": "code",
      "source": [
        "print(division(36, 6))"
      ],
      "metadata": {
        "colab": {
          "base_uri": "https://localhost:8080/"
        },
        "id": "Kvt8K89ZbMHn",
        "outputId": "bae724cb-bae0-47ba-eeb5-124eb67d68c7"
      },
      "execution_count": 28,
      "outputs": [
        {
          "output_type": "stream",
          "name": "stdout",
          "text": [
            "Початок роботи функції  division\n",
            "Завершення роботи функції  division\n",
            "6.0\n"
          ]
        }
      ]
    },
    {
      "cell_type": "markdown",
      "source": [
        "IV. Recursion.\n"
      ],
      "metadata": {
        "id": "FEugdtKrbUQE"
      }
    },
    {
      "cell_type": "markdown",
      "source": [
        " 14.\n",
        " Назвіть дві частини функції, які є обовʼязковими для того, щоб називати її рекурсивною"
      ],
      "metadata": {
        "id": "jyNZFWQqbYTC"
      }
    },
    {
      "cell_type": "markdown",
      "source": [
        "Виклик та умова зупинки виконання"
      ],
      "metadata": {
        "id": "p-b46WbrbdoC"
      }
    },
    {
      "cell_type": "markdown",
      "source": [
        "15.Визначте функцію, яка рекурсивно реалізовує пошук числа у послідовності Фібоначчі за її індексом (нумерація починається з нуля). Наприклад, потрібно знайти перше число у послідовності, тоді функція прийматиме 0 у якості аргумента і повертатиме 1, якщо ж знаходити третє число (індекс 2) послідовності, то функція повертатиме 2, якщо ж знаходити десяте число (індекс 9), то функція повертатиме 55."
      ],
      "metadata": {
        "id": "HiplVubFbfIW"
      }
    },
    {
      "cell_type": "code",
      "source": [
        "def fib(index):\n",
        "  index += 1\n",
        "\n",
        "  def fibonacci(index):\n",
        "    if index <= 1:\n",
        "        return index\n",
        "    else:\n",
        "        return fibonacci(index - 1) + fibonacci(index - 2)\n",
        "\n",
        "  return fibonacci(index)\n",
        "\n",
        "print(fib(9))\n",
        "print(fib(0))\n",
        "print(fib(4))"
      ],
      "metadata": {
        "colab": {
          "base_uri": "https://localhost:8080/"
        },
        "id": "bROVlFjEbh9P",
        "outputId": "fd44eb7e-29cc-451d-ba68-699698e2e134"
      },
      "execution_count": 32,
      "outputs": [
        {
          "output_type": "stream",
          "name": "stdout",
          "text": [
            "55\n",
            "1\n",
            "5\n"
          ]
        }
      ]
    }
  ]
}