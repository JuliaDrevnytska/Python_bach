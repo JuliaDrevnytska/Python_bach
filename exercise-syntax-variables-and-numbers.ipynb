{
 "cells": [
  {
   "cell_type": "markdown",
   "id": "d240a879",
   "metadata": {
    "papermill": {
     "duration": 0.00483,
     "end_time": "2025-03-28T22:52:00.933317",
     "exception": false,
     "start_time": "2025-03-28T22:52:00.928487",
     "status": "completed"
    },
    "tags": []
   },
   "source": [
    "**This notebook is an exercise in the [Python](https://www.kaggle.com/learn/python) course.  You can reference the tutorial at [this link](https://www.kaggle.com/colinmorris/hello-python).**\n",
    "\n",
    "---\n"
   ]
  },
  {
   "cell_type": "markdown",
   "id": "3d59d7b6",
   "metadata": {
    "papermill": {
     "duration": 0.003712,
     "end_time": "2025-03-28T22:52:00.941099",
     "exception": false,
     "start_time": "2025-03-28T22:52:00.937387",
     "status": "completed"
    },
    "tags": []
   },
   "source": [
    "Welcome to your first set of Python coding problems.  If this is your first time using Kaggle Notebooks, welcome! \n",
    "\n",
    "Notebooks are composed of blocks (called \"cells\") of text and code. Each of these is editable, though you'll mainly be editing the code cells to answer some questions.\n",
    "\n",
    "To get started, try running the code cell below (by pressing the ► button, or clicking on the cell and pressing ctrl+enter on your keyboard)."
   ]
  },
  {
   "cell_type": "code",
   "execution_count": 1,
   "id": "e26583eb",
   "metadata": {
    "execution": {
     "iopub.execute_input": "2025-03-28T22:52:00.950351Z",
     "iopub.status.busy": "2025-03-28T22:52:00.950015Z",
     "iopub.status.idle": "2025-03-28T22:52:00.959937Z",
     "shell.execute_reply": "2025-03-28T22:52:00.958606Z"
    },
    "papermill": {
     "duration": 0.016463,
     "end_time": "2025-03-28T22:52:00.961458",
     "exception": false,
     "start_time": "2025-03-28T22:52:00.944995",
     "status": "completed"
    },
    "tags": []
   },
   "outputs": [
    {
     "name": "stdout",
     "output_type": "stream",
     "text": [
      "You've successfully run some Python code\n",
      "Congratulations!\n"
     ]
    },
    {
     "data": {
      "text/plain": [
       "str"
      ]
     },
     "execution_count": 1,
     "metadata": {},
     "output_type": "execute_result"
    }
   ],
   "source": [
    "print(\"You've successfully run some Python code\")\n",
    "print(\"Congratulations!\")\n",
    "\n",
    "type(\"Congratulations!\")"
   ]
  },
  {
   "cell_type": "markdown",
   "id": "c7ca3373",
   "metadata": {
    "papermill": {
     "duration": 0.003988,
     "end_time": "2025-03-28T22:52:00.971168",
     "exception": false,
     "start_time": "2025-03-28T22:52:00.967180",
     "status": "completed"
    },
    "tags": []
   },
   "source": [
    "Try adding another line of code in the cell above and re-running it. \n",
    "\n",
    "Now let's get a little fancier:  Add a new code cell by clicking on an existing code cell, hitting the escape key, and then hitting the `a` or `b` key.  The `a` key will add a cell above the current cell, and `b` adds a cell below.\n",
    "\n",
    "Great! Now you know how to use Notebooks.\n",
    "\n",
    "Each hands-on exercise starts by setting up our feedback and code checking mechanism. Run the code cell below to do that. Then you'll be ready to move on to question 0."
   ]
  },
  {
   "cell_type": "code",
   "execution_count": 2,
   "id": "0e0c394b",
   "metadata": {
    "_kg_hide-input": true,
    "_kg_hide-output": true,
    "execution": {
     "iopub.execute_input": "2025-03-28T22:52:00.980807Z",
     "iopub.status.busy": "2025-03-28T22:52:00.980409Z",
     "iopub.status.idle": "2025-03-28T22:52:02.066650Z",
     "shell.execute_reply": "2025-03-28T22:52:02.065425Z"
    },
    "papermill": {
     "duration": 1.092858,
     "end_time": "2025-03-28T22:52:02.068232",
     "exception": false,
     "start_time": "2025-03-28T22:52:00.975374",
     "status": "completed"
    },
    "tags": []
   },
   "outputs": [
    {
     "name": "stdout",
     "output_type": "stream",
     "text": [
      "Setup complete! You're ready to start question 0.\n"
     ]
    }
   ],
   "source": [
    "from learntools.core import binder; binder.bind(globals())\n",
    "from learntools.python.ex1 import *\n",
    "print(\"Setup complete! You're ready to start question 0.\")"
   ]
  },
  {
   "cell_type": "markdown",
   "id": "a2e0d67a",
   "metadata": {
    "papermill": {
     "duration": 0.004115,
     "end_time": "2025-03-28T22:52:02.077618",
     "exception": false,
     "start_time": "2025-03-28T22:52:02.073503",
     "status": "completed"
    },
    "tags": []
   },
   "source": [
    "# 0.\n",
    "\n",
    "*This is a silly question intended as an introduction to the format we use for hands-on exercises throughout all Kaggle courses.*\n",
    "\n",
    "**What is your favorite color? **\n",
    "\n",
    "To complete this question, create a variable called `color` in the cell below with an appropriate value. The function call `q0.check()` (which we've already provided in the cell below) will check your answer."
   ]
  },
  {
   "cell_type": "code",
   "execution_count": 3,
   "id": "e070ed6c",
   "metadata": {
    "execution": {
     "iopub.execute_input": "2025-03-28T22:52:02.087553Z",
     "iopub.status.busy": "2025-03-28T22:52:02.086969Z",
     "iopub.status.idle": "2025-03-28T22:52:02.094696Z",
     "shell.execute_reply": "2025-03-28T22:52:02.093813Z"
    },
    "papermill": {
     "duration": 0.014096,
     "end_time": "2025-03-28T22:52:02.096034",
     "exception": false,
     "start_time": "2025-03-28T22:52:02.081938",
     "status": "completed"
    },
    "tags": []
   },
   "outputs": [
    {
     "data": {
      "application/javascript": [
       "parent.postMessage({\"jupyterEvent\": \"custom.exercise_interaction\", \"data\": {\"outcomeType\": 1, \"valueTowardsCompletion\": 0.25, \"interactionType\": 1, \"questionType\": 2, \"questionId\": \"0_ExerciseFormatTutorial\", \"learnToolsVersion\": \"0.3.4\", \"failureMessage\": \"\", \"exceptionClass\": \"\", \"trace\": \"\"}}, \"*\")"
      ],
      "text/plain": [
       "<IPython.core.display.Javascript object>"
      ]
     },
     "metadata": {},
     "output_type": "display_data"
    },
    {
     "data": {
      "text/markdown": [
       "<span style=\"color:#33cc33\">Correct:</span> What?! You got it right without needing a hint or anything? Drats. Well hey, you should still continue to the next step to get some practice asking for a hint and checking solutions. (Even though you obviously don't need any help here.)"
      ],
      "text/plain": [
       "Correct: What?! You got it right without needing a hint or anything? Drats. Well hey, you should still continue to the next step to get some practice asking for a hint and checking solutions. (Even though you obviously don't need any help here.)"
      ]
     },
     "metadata": {},
     "output_type": "display_data"
    }
   ],
   "source": [
    "# create a variable called color with an appropriate value on the line below\n",
    "# (Remember, strings in Python must be enclosed in 'single' or \"double\" quotes)\n",
    "color = \"Blue\"\n",
    "\n",
    "# Check your answer\n",
    "q0.check()"
   ]
  },
  {
   "cell_type": "markdown",
   "id": "0df5fca9",
   "metadata": {
    "papermill": {
     "duration": 0.004067,
     "end_time": "2025-03-28T22:52:02.104742",
     "exception": false,
     "start_time": "2025-03-28T22:52:02.100675",
     "status": "completed"
    },
    "tags": []
   },
   "source": [
    "Didn't get the right answer? How do you not even know your own favorite color?!\n",
    "\n",
    "Delete the `#` in the line below to make one of the lines run. You can choose between getting a hint or the full answer by choosing which line to remove the `#` from. \n",
    "\n",
    "Removing the `#` is called uncommenting, because it changes that line from a \"comment\" which Python doesn't run to code, which Python does run."
   ]
  },
  {
   "cell_type": "code",
   "execution_count": 4,
   "id": "be47759a",
   "metadata": {
    "execution": {
     "iopub.execute_input": "2025-03-28T22:52:02.115138Z",
     "iopub.status.busy": "2025-03-28T22:52:02.114746Z",
     "iopub.status.idle": "2025-03-28T22:52:02.118689Z",
     "shell.execute_reply": "2025-03-28T22:52:02.117602Z"
    },
    "papermill": {
     "duration": 0.011209,
     "end_time": "2025-03-28T22:52:02.120403",
     "exception": false,
     "start_time": "2025-03-28T22:52:02.109194",
     "status": "completed"
    },
    "tags": []
   },
   "outputs": [],
   "source": [
    "#q0.hint()\n",
    "#q0.solution()"
   ]
  },
  {
   "cell_type": "markdown",
   "id": "7bd671ac",
   "metadata": {
    "papermill": {
     "duration": 0.004227,
     "end_time": "2025-03-28T22:52:02.130276",
     "exception": false,
     "start_time": "2025-03-28T22:52:02.126049",
     "status": "completed"
    },
    "tags": []
   },
   "source": [
    "The upcoming questions work the same way. The only thing that will change are the question numbers. For the next question, you'll call `q1.check()`, `q1.hint()`, `q1.solution()`, for question 2, you'll call `q2.check()`, and so on."
   ]
  },
  {
   "cell_type": "markdown",
   "id": "b707cfa8",
   "metadata": {
    "papermill": {
     "duration": 0.006374,
     "end_time": "2025-03-28T22:52:02.140962",
     "exception": false,
     "start_time": "2025-03-28T22:52:02.134588",
     "status": "completed"
    },
    "tags": []
   },
   "source": [
    "<hr/>\n",
    "\n",
    "# 1.\n",
    "\n",
    "Complete the code below. In case it's helpful, here is the table of available arithmetic operations:\n",
    "\n",
    "\n",
    "\n",
    "| Operator     | Name           | Description                                            |\n",
    "|--------------|----------------|--------------------------------------------------------|\n",
    "| ``a + b``    | Addition       | Sum of ``a`` and ``b``                                 |\n",
    "| ``a - b``    | Subtraction    | Difference of ``a`` and ``b``                          |\n",
    "| ``a * b``    | Multiplication | Product of ``a`` and ``b``                             |\n",
    "| ``a / b``    | True division  | Quotient of ``a`` and ``b``                            |\n",
    "| ``a // b``   | Floor division | Quotient of ``a`` and ``b``, removing fractional parts |\n",
    "| ``a % b``    | Modulus        | Integer remainder after division of ``a`` by ``b``     |\n",
    "| ``a ** b``   | Exponentiation | ``a`` raised to the power of ``b``                     |\n",
    "| ``-a``       | Negation       | The negative of ``a``                                  |\n",
    "\n",
    "<span style=\"display:none\"></span>\n"
   ]
  },
  {
   "cell_type": "code",
   "execution_count": 5,
   "id": "1ecd198a",
   "metadata": {
    "execution": {
     "iopub.execute_input": "2025-03-28T22:52:02.157073Z",
     "iopub.status.busy": "2025-03-28T22:52:02.156553Z",
     "iopub.status.idle": "2025-03-28T22:52:02.165229Z",
     "shell.execute_reply": "2025-03-28T22:52:02.164112Z"
    },
    "papermill": {
     "duration": 0.018508,
     "end_time": "2025-03-28T22:52:02.167018",
     "exception": false,
     "start_time": "2025-03-28T22:52:02.148510",
     "status": "completed"
    },
    "tags": []
   },
   "outputs": [
    {
     "data": {
      "application/javascript": [
       "parent.postMessage({\"jupyterEvent\": \"custom.exercise_interaction\", \"data\": {\"outcomeType\": 1, \"valueTowardsCompletion\": 0.25, \"interactionType\": 1, \"questionType\": 1, \"questionId\": \"1_CircleArea\", \"learnToolsVersion\": \"0.3.4\", \"failureMessage\": \"\", \"exceptionClass\": \"\", \"trace\": \"\"}}, \"*\")"
      ],
      "text/plain": [
       "<IPython.core.display.Javascript object>"
      ]
     },
     "metadata": {},
     "output_type": "display_data"
    },
    {
     "data": {
      "text/markdown": [
       "<span style=\"color:#33cc33\">Correct</span>"
      ],
      "text/plain": [
       "Correct"
      ]
     },
     "metadata": {},
     "output_type": "display_data"
    }
   ],
   "source": [
    "pi = 3.14159 # approximate\n",
    "diameter = 3\n",
    "\n",
    "# Create a variable called 'radius' equal to half the diameter\n",
    "\n",
    "radius = diameter/2\n",
    "\n",
    "# Create a variable called 'area', using the formula for the area of a circle: pi times the radius squared\n",
    "area = pi * (radius ** 2)\n",
    "\n",
    "# Check your answer\n",
    "q1.check()"
   ]
  },
  {
   "cell_type": "code",
   "execution_count": 6,
   "id": "381c3e3e",
   "metadata": {
    "execution": {
     "iopub.execute_input": "2025-03-28T22:52:02.180321Z",
     "iopub.status.busy": "2025-03-28T22:52:02.179911Z",
     "iopub.status.idle": "2025-03-28T22:52:02.184604Z",
     "shell.execute_reply": "2025-03-28T22:52:02.182958Z"
    },
    "papermill": {
     "duration": 0.013836,
     "end_time": "2025-03-28T22:52:02.186327",
     "exception": false,
     "start_time": "2025-03-28T22:52:02.172491",
     "status": "completed"
    },
    "tags": []
   },
   "outputs": [],
   "source": [
    "# Uncomment and run the lines below if you need help.\n",
    "# q1.hint()\n",
    "#q1.solution()"
   ]
  },
  {
   "cell_type": "markdown",
   "id": "bcabb9a2",
   "metadata": {
    "papermill": {
     "duration": 0.004354,
     "end_time": "2025-03-28T22:52:02.196208",
     "exception": false,
     "start_time": "2025-03-28T22:52:02.191854",
     "status": "completed"
    },
    "tags": []
   },
   "source": [
    "<hr/>\n",
    "\n",
    "# 2.\n",
    "\n",
    "Add code to the following cell to swap variables `a` and `b` (so that `a` refers to the object previously referred to by `b` and vice versa)."
   ]
  },
  {
   "cell_type": "code",
   "execution_count": 7,
   "id": "44d78e22",
   "metadata": {
    "execution": {
     "iopub.execute_input": "2025-03-28T22:52:02.207094Z",
     "iopub.status.busy": "2025-03-28T22:52:02.206554Z",
     "iopub.status.idle": "2025-03-28T22:52:02.215493Z",
     "shell.execute_reply": "2025-03-28T22:52:02.214495Z"
    },
    "papermill": {
     "duration": 0.015674,
     "end_time": "2025-03-28T22:52:02.216945",
     "exception": false,
     "start_time": "2025-03-28T22:52:02.201271",
     "status": "completed"
    },
    "tags": []
   },
   "outputs": [
    {
     "data": {
      "application/javascript": [
       "parent.postMessage({\"jupyterEvent\": \"custom.exercise_interaction\", \"data\": {\"outcomeType\": 1, \"valueTowardsCompletion\": 0.25, \"interactionType\": 1, \"questionType\": 2, \"questionId\": \"2_VariableSwap\", \"learnToolsVersion\": \"0.3.4\", \"failureMessage\": \"\", \"exceptionClass\": \"\", \"trace\": \"\"}}, \"*\")"
      ],
      "text/plain": [
       "<IPython.core.display.Javascript object>"
      ]
     },
     "metadata": {},
     "output_type": "display_data"
    },
    {
     "data": {
      "text/markdown": [
       "<span style=\"color:#33cc33\">Correct:</span> \n",
       "\n",
       "The most straightforward solution is to use a third variable to temporarily store one of the old values. e.g.:\n",
       "\n",
       "    tmp = a\n",
       "    a = b\n",
       "    b = tmp\n",
       "\n",
       "If you've read lots of Python code, you might have seen the following trick to swap two variables in one line:\n",
       "\n",
       "    a, b = b, a\n",
       "\n",
       "We'll demystify this bit of Python magic later when we talk about *tuples*."
      ],
      "text/plain": [
       "Correct: \n",
       "\n",
       "The most straightforward solution is to use a third variable to temporarily store one of the old values. e.g.:\n",
       "\n",
       "    tmp = a\n",
       "    a = b\n",
       "    b = tmp\n",
       "\n",
       "If you've read lots of Python code, you might have seen the following trick to swap two variables in one line:\n",
       "\n",
       "    a, b = b, a\n",
       "\n",
       "We'll demystify this bit of Python magic later when we talk about *tuples*."
      ]
     },
     "metadata": {},
     "output_type": "display_data"
    }
   ],
   "source": [
    "########### Setup code - don't touch this part ######################\n",
    "# If you're curious, these are examples of lists. We'll talk about \n",
    "# them in depth a few lessons from now. For now, just know that they're\n",
    "# yet another type of Python object, like int or float.\n",
    "a = [1, 2, 3]\n",
    "b = [3, 2, 1]\n",
    "q2.store_original_ids()\n",
    "######################################################################\n",
    "\n",
    "a, b = b, a\n",
    "\n",
    "######################################################################\n",
    "\n",
    "# Check your answer\n",
    "q2.check()"
   ]
  },
  {
   "cell_type": "code",
   "execution_count": 8,
   "id": "ade7079a",
   "metadata": {
    "execution": {
     "iopub.execute_input": "2025-03-28T22:52:02.232150Z",
     "iopub.status.busy": "2025-03-28T22:52:02.231674Z",
     "iopub.status.idle": "2025-03-28T22:52:02.240043Z",
     "shell.execute_reply": "2025-03-28T22:52:02.238604Z"
    },
    "papermill": {
     "duration": 0.018087,
     "end_time": "2025-03-28T22:52:02.241773",
     "exception": false,
     "start_time": "2025-03-28T22:52:02.223686",
     "status": "completed"
    },
    "tags": []
   },
   "outputs": [
    {
     "data": {
      "application/javascript": [
       "parent.postMessage({\"jupyterEvent\": \"custom.exercise_interaction\", \"data\": {\"interactionType\": 2, \"questionType\": 2, \"questionId\": \"2_VariableSwap\", \"learnToolsVersion\": \"0.3.4\", \"valueTowardsCompletion\": 0.0, \"failureMessage\": \"\", \"exceptionClass\": \"\", \"trace\": \"\", \"outcomeType\": 4}}, \"*\")"
      ],
      "text/plain": [
       "<IPython.core.display.Javascript object>"
      ]
     },
     "metadata": {},
     "output_type": "display_data"
    },
    {
     "data": {
      "text/markdown": [
       "<span style=\"color:#3366cc\">Hint:</span> Try using a third variable."
      ],
      "text/plain": [
       "Hint: Try using a third variable."
      ]
     },
     "metadata": {},
     "output_type": "display_data"
    }
   ],
   "source": [
    "q2.hint()"
   ]
  },
  {
   "cell_type": "code",
   "execution_count": 9,
   "id": "8e89596c",
   "metadata": {
    "execution": {
     "iopub.execute_input": "2025-03-28T22:52:02.257757Z",
     "iopub.status.busy": "2025-03-28T22:52:02.257433Z",
     "iopub.status.idle": "2025-03-28T22:52:02.262773Z",
     "shell.execute_reply": "2025-03-28T22:52:02.262060Z"
    },
    "papermill": {
     "duration": 0.013762,
     "end_time": "2025-03-28T22:52:02.263983",
     "exception": false,
     "start_time": "2025-03-28T22:52:02.250221",
     "status": "completed"
    },
    "tags": []
   },
   "outputs": [
    {
     "data": {
      "application/javascript": [
       "parent.postMessage({\"jupyterEvent\": \"custom.exercise_interaction\", \"data\": {\"interactionType\": 3, \"questionType\": 2, \"questionId\": \"2_VariableSwap\", \"learnToolsVersion\": \"0.3.4\", \"valueTowardsCompletion\": 0.0, \"failureMessage\": \"\", \"exceptionClass\": \"\", \"trace\": \"\", \"outcomeType\": 4}}, \"*\")"
      ],
      "text/plain": [
       "<IPython.core.display.Javascript object>"
      ]
     },
     "metadata": {},
     "output_type": "display_data"
    },
    {
     "data": {
      "text/markdown": [
       "<span style=\"color:#33cc99\">Solution:</span> The most straightforward solution is to use a third variable to temporarily store one of the old values. e.g.:\n",
       "\n",
       "    tmp = a\n",
       "    a = b\n",
       "    b = tmp\n",
       "\n",
       "If you've read lots of Python code, you might have seen the following trick to swap two variables in one line:\n",
       "\n",
       "    a, b = b, a\n",
       "\n",
       "We'll demystify this bit of Python magic later when we talk about *tuples*."
      ],
      "text/plain": [
       "Solution: The most straightforward solution is to use a third variable to temporarily store one of the old values. e.g.:\n",
       "\n",
       "    tmp = a\n",
       "    a = b\n",
       "    b = tmp\n",
       "\n",
       "If you've read lots of Python code, you might have seen the following trick to swap two variables in one line:\n",
       "\n",
       "    a, b = b, a\n",
       "\n",
       "We'll demystify this bit of Python magic later when we talk about *tuples*."
      ]
     },
     "metadata": {},
     "output_type": "display_data"
    }
   ],
   "source": [
    "q2.solution()"
   ]
  },
  {
   "cell_type": "markdown",
   "id": "fd1228ce",
   "metadata": {
    "papermill": {
     "duration": 0.007771,
     "end_time": "2025-03-28T22:52:02.279940",
     "exception": false,
     "start_time": "2025-03-28T22:52:02.272169",
     "status": "completed"
    },
    "tags": []
   },
   "source": [
    "<hr/>\n",
    "\n",
    "# 3a.\n",
    "\n",
    "Add parentheses to the following expression so that it evaluates to 1."
   ]
  },
  {
   "cell_type": "code",
   "execution_count": 10,
   "id": "949a1f59",
   "metadata": {
    "execution": {
     "iopub.execute_input": "2025-03-28T22:52:02.291770Z",
     "iopub.status.busy": "2025-03-28T22:52:02.291420Z",
     "iopub.status.idle": "2025-03-28T22:52:02.296858Z",
     "shell.execute_reply": "2025-03-28T22:52:02.295817Z"
    },
    "papermill": {
     "duration": 0.01336,
     "end_time": "2025-03-28T22:52:02.298710",
     "exception": false,
     "start_time": "2025-03-28T22:52:02.285350",
     "status": "completed"
    },
    "tags": []
   },
   "outputs": [
    {
     "data": {
      "text/plain": [
       "1"
      ]
     },
     "execution_count": 10,
     "metadata": {},
     "output_type": "execute_result"
    }
   ],
   "source": [
    "(5 - 3) // 2"
   ]
  },
  {
   "cell_type": "code",
   "execution_count": 11,
   "id": "bd73aeb3",
   "metadata": {
    "execution": {
     "iopub.execute_input": "2025-03-28T22:52:02.310841Z",
     "iopub.status.busy": "2025-03-28T22:52:02.310414Z",
     "iopub.status.idle": "2025-03-28T22:52:02.313864Z",
     "shell.execute_reply": "2025-03-28T22:52:02.313121Z"
    },
    "papermill": {
     "duration": 0.010791,
     "end_time": "2025-03-28T22:52:02.315171",
     "exception": false,
     "start_time": "2025-03-28T22:52:02.304380",
     "status": "completed"
    },
    "tags": []
   },
   "outputs": [],
   "source": [
    "#q3.a.hint()"
   ]
  },
  {
   "cell_type": "code",
   "execution_count": 12,
   "id": "d18c562d",
   "metadata": {
    "execution": {
     "iopub.execute_input": "2025-03-28T22:52:02.332082Z",
     "iopub.status.busy": "2025-03-28T22:52:02.331792Z",
     "iopub.status.idle": "2025-03-28T22:52:02.338419Z",
     "shell.execute_reply": "2025-03-28T22:52:02.337558Z"
    },
    "papermill": {
     "duration": 0.016343,
     "end_time": "2025-03-28T22:52:02.339808",
     "exception": false,
     "start_time": "2025-03-28T22:52:02.323465",
     "status": "completed"
    },
    "tags": []
   },
   "outputs": [
    {
     "data": {
      "application/javascript": [
       "parent.postMessage({\"jupyterEvent\": \"custom.exercise_interaction\", \"data\": {\"interactionType\": 3, \"questionType\": 4, \"questionId\": \"3.1_ArithmeticParensEasy\", \"learnToolsVersion\": \"0.3.4\", \"valueTowardsCompletion\": 0.0, \"failureMessage\": \"\", \"exceptionClass\": \"\", \"trace\": \"\", \"outcomeType\": 4}}, \"*\")"
      ],
      "text/plain": [
       "<IPython.core.display.Javascript object>"
      ]
     },
     "metadata": {},
     "output_type": "display_data"
    },
    {
     "data": {
      "text/markdown": [
       "<span style=\"color:#33cc99\">Solution:</span> \n",
       "```python\n",
       "(5 - 3) // 2\n",
       "```"
      ],
      "text/plain": [
       "Solution: \n",
       "```python\n",
       "(5 - 3) // 2\n",
       "```"
      ]
     },
     "metadata": {},
     "output_type": "display_data"
    }
   ],
   "source": [
    "# Check your answer (Run this code cell to receive credit!)\n",
    "q3.a.solution()"
   ]
  },
  {
   "cell_type": "markdown",
   "id": "aee9081c",
   "metadata": {
    "papermill": {
     "duration": 0.006232,
     "end_time": "2025-03-28T22:52:02.351389",
     "exception": false,
     "start_time": "2025-03-28T22:52:02.345157",
     "status": "completed"
    },
    "tags": []
   },
   "source": [
    "# 3b.  <span title=\"A bit spicy\" style=\"color: darkgreen \">🌶️</span>\n",
    "\n",
    "<small>Questions, like this one, marked a spicy pepper are a bit harder.</small>\n",
    "\n",
    "Add parentheses to the following expression so that it evaluates to 0."
   ]
  },
  {
   "cell_type": "code",
   "execution_count": 13,
   "id": "e96be94e",
   "metadata": {
    "execution": {
     "iopub.execute_input": "2025-03-28T22:52:02.363396Z",
     "iopub.status.busy": "2025-03-28T22:52:02.363067Z",
     "iopub.status.idle": "2025-03-28T22:52:02.368925Z",
     "shell.execute_reply": "2025-03-28T22:52:02.367827Z"
    },
    "papermill": {
     "duration": 0.013928,
     "end_time": "2025-03-28T22:52:02.370821",
     "exception": false,
     "start_time": "2025-03-28T22:52:02.356893",
     "status": "completed"
    },
    "tags": []
   },
   "outputs": [
    {
     "data": {
      "text/plain": [
       "0"
      ]
     },
     "execution_count": 13,
     "metadata": {},
     "output_type": "execute_result"
    }
   ],
   "source": [
    "(8 - 3) * (2 - (1 + 1))"
   ]
  },
  {
   "cell_type": "code",
   "execution_count": 14,
   "id": "882a8888",
   "metadata": {
    "execution": {
     "iopub.execute_input": "2025-03-28T22:52:02.384578Z",
     "iopub.status.busy": "2025-03-28T22:52:02.384061Z",
     "iopub.status.idle": "2025-03-28T22:52:02.389303Z",
     "shell.execute_reply": "2025-03-28T22:52:02.387771Z"
    },
    "papermill": {
     "duration": 0.014268,
     "end_time": "2025-03-28T22:52:02.391458",
     "exception": false,
     "start_time": "2025-03-28T22:52:02.377190",
     "status": "completed"
    },
    "tags": []
   },
   "outputs": [],
   "source": [
    "#q3.b.hint()"
   ]
  },
  {
   "cell_type": "code",
   "execution_count": 15,
   "id": "6003aa6d",
   "metadata": {
    "execution": {
     "iopub.execute_input": "2025-03-28T22:52:02.406517Z",
     "iopub.status.busy": "2025-03-28T22:52:02.406081Z",
     "iopub.status.idle": "2025-03-28T22:52:02.414399Z",
     "shell.execute_reply": "2025-03-28T22:52:02.413398Z"
    },
    "papermill": {
     "duration": 0.017262,
     "end_time": "2025-03-28T22:52:02.415916",
     "exception": false,
     "start_time": "2025-03-28T22:52:02.398654",
     "status": "completed"
    },
    "tags": []
   },
   "outputs": [
    {
     "data": {
      "application/javascript": [
       "parent.postMessage({\"jupyterEvent\": \"custom.exercise_interaction\", \"data\": {\"interactionType\": 3, \"questionType\": 4, \"questionId\": \"3.2_ArithmeticParensHard\", \"learnToolsVersion\": \"0.3.4\", \"valueTowardsCompletion\": 0.0, \"failureMessage\": \"\", \"exceptionClass\": \"\", \"trace\": \"\", \"outcomeType\": 4}}, \"*\")"
      ],
      "text/plain": [
       "<IPython.core.display.Javascript object>"
      ]
     },
     "metadata": {},
     "output_type": "display_data"
    },
    {
     "data": {
      "text/markdown": [
       "<span style=\"color:#33cc99\">Solution:</span> `(8 - 3) * (2 - (1 + 1))` is one solution. There may be others."
      ],
      "text/plain": [
       "Solution: `(8 - 3) * (2 - (1 + 1))` is one solution. There may be others."
      ]
     },
     "metadata": {},
     "output_type": "display_data"
    }
   ],
   "source": [
    "# Check your answer (Run this code cell to receive credit!)\n",
    "q3.b.solution()"
   ]
  },
  {
   "cell_type": "markdown",
   "id": "3a4f9c18",
   "metadata": {
    "papermill": {
     "duration": 0.005873,
     "end_time": "2025-03-28T22:52:02.428279",
     "exception": false,
     "start_time": "2025-03-28T22:52:02.422406",
     "status": "completed"
    },
    "tags": []
   },
   "source": [
    "<hr/>\n",
    "\n",
    "# 4. \n",
    "Alice, Bob and Carol have agreed to pool their Halloween candy and split it evenly among themselves.\n",
    "For the sake of their friendship, any candies left over will be smashed. For example, if they collectively\n",
    "bring home 91 candies, they'll take 30 each and smash 1.\n",
    "\n",
    "Write an arithmetic expression below to calculate how many candies they must smash for a given haul."
   ]
  },
  {
   "cell_type": "code",
   "execution_count": 16,
   "id": "5c8ac049",
   "metadata": {
    "execution": {
     "iopub.execute_input": "2025-03-28T22:52:02.442809Z",
     "iopub.status.busy": "2025-03-28T22:52:02.442155Z",
     "iopub.status.idle": "2025-03-28T22:52:02.450024Z",
     "shell.execute_reply": "2025-03-28T22:52:02.449111Z"
    },
    "papermill": {
     "duration": 0.015986,
     "end_time": "2025-03-28T22:52:02.451222",
     "exception": false,
     "start_time": "2025-03-28T22:52:02.435236",
     "status": "completed"
    },
    "tags": []
   },
   "outputs": [
    {
     "data": {
      "application/javascript": [
       "parent.postMessage({\"jupyterEvent\": \"custom.exercise_interaction\", \"data\": {\"outcomeType\": 1, \"valueTowardsCompletion\": 0.25, \"interactionType\": 1, \"questionType\": 1, \"questionId\": \"4_CandySplitting\", \"learnToolsVersion\": \"0.3.4\", \"failureMessage\": \"\", \"exceptionClass\": \"\", \"trace\": \"\"}}, \"*\")"
      ],
      "text/plain": [
       "<IPython.core.display.Javascript object>"
      ]
     },
     "metadata": {},
     "output_type": "display_data"
    },
    {
     "data": {
      "text/markdown": [
       "<span style=\"color:#33cc33\">Correct</span>"
      ],
      "text/plain": [
       "Correct"
      ]
     },
     "metadata": {},
     "output_type": "display_data"
    }
   ],
   "source": [
    "# Variables representing the number of candies collected by alice, bob, and carol\n",
    "alice_candies = 121\n",
    "bob_candies = 77\n",
    "carol_candies = 109\n",
    "\n",
    "\n",
    "# Your code goes here! Replace the right-hand side of this assignment with an expression\n",
    "# involving alice_candies, bob_candies, and carol_candies\n",
    "to_smash = (alice_candies + bob_candies + carol_candies) % 3\n",
    "\n",
    "# Check your answer\n",
    "q4.check()"
   ]
  },
  {
   "cell_type": "code",
   "execution_count": 17,
   "id": "29614979",
   "metadata": {
    "execution": {
     "iopub.execute_input": "2025-03-28T22:52:02.464280Z",
     "iopub.status.busy": "2025-03-28T22:52:02.463853Z",
     "iopub.status.idle": "2025-03-28T22:52:02.473162Z",
     "shell.execute_reply": "2025-03-28T22:52:02.472374Z"
    },
    "papermill": {
     "duration": 0.017392,
     "end_time": "2025-03-28T22:52:02.474605",
     "exception": false,
     "start_time": "2025-03-28T22:52:02.457213",
     "status": "completed"
    },
    "tags": []
   },
   "outputs": [
    {
     "data": {
      "application/javascript": [
       "parent.postMessage({\"jupyterEvent\": \"custom.exercise_interaction\", \"data\": {\"interactionType\": 2, \"questionType\": 1, \"questionId\": \"4_CandySplitting\", \"learnToolsVersion\": \"0.3.4\", \"valueTowardsCompletion\": 0.0, \"failureMessage\": \"\", \"exceptionClass\": \"\", \"trace\": \"\", \"outcomeType\": 4}}, \"*\")"
      ],
      "text/plain": [
       "<IPython.core.display.Javascript object>"
      ]
     },
     "metadata": {},
     "output_type": "display_data"
    },
    {
     "data": {
      "text/markdown": [
       "<span style=\"color:#3366cc\">Hint 2:</span> `j % k` is the remainder after dividing `j` by `k`"
      ],
      "text/plain": [
       "Hint 2: `j % k` is the remainder after dividing `j` by `k`"
      ]
     },
     "metadata": {},
     "output_type": "display_data"
    },
    {
     "data": {
      "application/javascript": [
       "parent.postMessage({\"jupyterEvent\": \"custom.exercise_interaction\", \"data\": {\"interactionType\": 3, \"questionType\": 1, \"questionId\": \"4_CandySplitting\", \"learnToolsVersion\": \"0.3.4\", \"valueTowardsCompletion\": 0.0, \"failureMessage\": \"\", \"exceptionClass\": \"\", \"trace\": \"\", \"outcomeType\": 4}}, \"*\")"
      ],
      "text/plain": [
       "<IPython.core.display.Javascript object>"
      ]
     },
     "metadata": {},
     "output_type": "display_data"
    },
    {
     "data": {
      "text/markdown": [
       "<span style=\"color:#33cc99\">Solution:</span> \n",
       "```python\n",
       "(alice_candies + bob_candies + carol_candies) % 3\n",
       "```"
      ],
      "text/plain": [
       "Solution: \n",
       "```python\n",
       "(alice_candies + bob_candies + carol_candies) % 3\n",
       "```"
      ]
     },
     "metadata": {},
     "output_type": "display_data"
    }
   ],
   "source": [
    "q4.hint(2)\n",
    "q4.solution()"
   ]
  },
  {
   "cell_type": "markdown",
   "id": "eed4e8f1",
   "metadata": {
    "papermill": {
     "duration": 0.007918,
     "end_time": "2025-03-28T22:52:02.492560",
     "exception": false,
     "start_time": "2025-03-28T22:52:02.484642",
     "status": "completed"
    },
    "tags": []
   },
   "source": [
    "# Keep Going\n",
    "\n",
    "Next up, you'll **[learn to write new functions and understand functions others write](https://www.kaggle.com/colinmorris/functions-and-getting-help)**. This will make you at least 10 times more productive as a Python programmer. "
   ]
  },
  {
   "cell_type": "markdown",
   "id": "a10c013c",
   "metadata": {
    "papermill": {
     "duration": 0.00557,
     "end_time": "2025-03-28T22:52:02.504119",
     "exception": false,
     "start_time": "2025-03-28T22:52:02.498549",
     "status": "completed"
    },
    "tags": []
   },
   "source": [
    "---\n",
    "\n",
    "\n",
    "\n",
    "\n",
    "*Have questions or comments? Visit the [course discussion forum](https://www.kaggle.com/learn/python/discussion) to chat with other learners.*"
   ]
  }
 ],
 "metadata": {
  "kaggle": {
   "accelerator": "none",
   "dataSources": [],
   "isGpuEnabled": false,
   "isInternetEnabled": false,
   "language": "python",
   "sourceType": "notebook"
  },
  "kernelspec": {
   "display_name": "Python 3",
   "language": "python",
   "name": "python3"
  },
  "language_info": {
   "codemirror_mode": {
    "name": "ipython",
    "version": 3
   },
   "file_extension": ".py",
   "mimetype": "text/x-python",
   "name": "python",
   "nbconvert_exporter": "python",
   "pygments_lexer": "ipython3",
   "version": "3.10.12"
  },
  "learntools_metadata": {
   "lesson_index": 0,
   "type": "exercise"
  },
  "papermill": {
   "default_parameters": {},
   "duration": 4.636841,
   "end_time": "2025-03-28T22:52:03.129672",
   "environment_variables": {},
   "exception": null,
   "input_path": "__notebook__.ipynb",
   "output_path": "__notebook__.ipynb",
   "parameters": {},
   "start_time": "2025-03-28T22:51:58.492831",
   "version": "2.6.0"
  }
 },
 "nbformat": 4,
 "nbformat_minor": 5
}
