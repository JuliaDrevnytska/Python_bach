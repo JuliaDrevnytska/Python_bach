{
  "nbformat": 4,
  "nbformat_minor": 0,
  "metadata": {
    "colab": {
      "provenance": [],
      "authorship_tag": "ABX9TyOLBnQCVay8kZCLP/4Y//Z/",
      "include_colab_link": true
    },
    "kernelspec": {
      "name": "python3",
      "display_name": "Python 3"
    },
    "language_info": {
      "name": "python"
    }
  },
  "cells": [
    {
      "cell_type": "markdown",
      "metadata": {
        "id": "view-in-github",
        "colab_type": "text"
      },
      "source": [
        "<a href=\"https://colab.research.google.com/github/JuliaDrevnytska/pythonProject4/blob/main/python_practice_3.ipynb\" target=\"_parent\"><img src=\"https://colab.research.google.com/assets/colab-badge.svg\" alt=\"Open In Colab\"/></a>"
      ]
    },
    {
      "cell_type": "markdown",
      "source": [
        "I. Оператори порівняння та логічні оператори. Умови.\n"
      ],
      "metadata": {
        "id": "wROVDwsbnAvj"
      }
    },
    {
      "cell_type": "markdown",
      "source": [
        "Створіть цілочисленну змінну зі своїм щасливим або улюбленим числом. Напишіть код, який би автоматизовував наступну задачу.\n"
      ],
      "metadata": {
        "id": "VT68il4dnGOG"
      }
    },
    {
      "cell_type": "markdown",
      "source": [
        "Якщо число парне, помножте його на 2 та виведіть результат на екран.\n",
        "\n",
        "Але якщо число непарне, помножте його на 3 та додайте 1 і виведіть на екран.\n"
      ],
      "metadata": {
        "id": "iT8OeiNynIyu"
      }
    },
    {
      "cell_type": "code",
      "source": [
        "a1 = 7\n",
        "if a1 % 2 == 0:\n",
        "  a1 = a1 * 2\n",
        "else:\n",
        "  a1 = a1 * 3 + 1\n",
        "print(a1)"
      ],
      "metadata": {
        "colab": {
          "base_uri": "https://localhost:8080/"
        },
        "id": "VSqv-dzFnYNu",
        "outputId": "facd5273-a1ac-47da-e21c-b788c9cdb513"
      },
      "execution_count": 7,
      "outputs": [
        {
          "output_type": "stream",
          "name": "stdout",
          "text": [
            "22\n"
          ]
        }
      ]
    },
    {
      "cell_type": "markdown",
      "source": [
        "2. Створіть змінну, що посилається на список. Якщо список пустий, додайте будь-який елемент у кінець списку. Якщо ж ні, то нічого не робіть."
      ],
      "metadata": {
        "id": "U7w5XyAeoEE4"
      }
    },
    {
      "cell_type": "code",
      "source": [
        "list2 = []\n",
        "if len(list2) == 0:\n",
        "  list2.append(1)\n",
        "print(list2)"
      ],
      "metadata": {
        "colab": {
          "base_uri": "https://localhost:8080/"
        },
        "id": "eLT_Oz5goGaM",
        "outputId": "1f6faba2-fdb2-4e5f-f257-87edc29f4243"
      },
      "execution_count": 8,
      "outputs": [
        {
          "output_type": "stream",
          "name": "stdout",
          "text": [
            "[1]\n"
          ]
        }
      ]
    },
    {
      "cell_type": "markdown",
      "source": [
        "3.Створіть рядок зі своїм імʼям латинкою. Напишіть код, який би автоматизовував наступну задачу.\n",
        "Якщо в імені є літера \"а\" або \"i\", Виведіть на екран повідомлення \"A or I is in the name\".\n",
        "\n",
        "Якщо в імені є літери \"o\" та \"n\", Виведіть на екран повідомлення \"O and N is in the name\".\n",
        "\n",
        "Також якщо в імені немає літери \"о\", але є \"n\", Виведіть на екран повідомлення \"Only N is in the name\".\n",
        "\n",
        "В решті випадків виведіть на екран повідомлення \"There is no N in the name, but there might be O\".\n",
        "\n",
        "Зверніть увагу, що, наприклад, для імені \"Antonina\" буде виведено два повідомлення."
      ],
      "metadata": {
        "id": "tosof0DOoMZS"
      }
    },
    {
      "cell_type": "code",
      "source": [
        "name3 = \"Yuliia\"\n",
        "if name3.lower().count(\"a\") > 0 or name3.lower().count(\"i\") > 0:\n",
        "  print(\"A or I is in the name\")\n",
        "if name3.lower().count(\"o\") > 0 and name3.lower().count(\"n\") > 0:\n",
        "  print(\"O and N is in the name\")\n",
        "elif name3.lower().count(\"o\") <= 0 and name3.lower().count(\"n\") > 0:\n",
        "  print(\"Only N is in the name\")\n",
        "else:\n",
        "  print(\"There is no N in the name, but there might be O\")"
      ],
      "metadata": {
        "colab": {
          "base_uri": "https://localhost:8080/"
        },
        "id": "i3il5lZBoP80",
        "outputId": "163fb1f6-3e6a-418f-a6ac-5530b8987f73"
      },
      "execution_count": 9,
      "outputs": [
        {
          "output_type": "stream",
          "name": "stdout",
          "text": [
            "A or I is in the name\n",
            "There is no N in the name, but there might be O\n"
          ]
        }
      ]
    },
    {
      "cell_type": "markdown",
      "source": [
        "II. Comprehensions."
      ],
      "metadata": {
        "id": "h7reO86KojTk"
      }
    },
    {
      "cell_type": "markdown",
      "source": [
        "4. Створіть список, використовуючи if (не if-else), range та comprehension."
      ],
      "metadata": {
        "id": "mbG9-nP_olcE"
      }
    },
    {
      "cell_type": "code",
      "source": [
        "list4 = [num ** 1 for num in range(144) if num % 6 == 0]\n",
        "print(list4)"
      ],
      "metadata": {
        "colab": {
          "base_uri": "https://localhost:8080/"
        },
        "id": "K5TNo90Pontr",
        "outputId": "348bd141-12c6-438f-8c92-93fe5d049f85"
      },
      "execution_count": 10,
      "outputs": [
        {
          "output_type": "stream",
          "name": "stdout",
          "text": [
            "[0, 6, 12, 18, 24, 30, 36, 42, 48, 54, 60, 66, 72, 78, 84, 90, 96, 102, 108, 114, 120, 126, 132, 138]\n"
          ]
        }
      ]
    },
    {
      "cell_type": "markdown",
      "source": [
        "5. Створіть словник, використовуючи dict comprehension, що містить if else. Коли слід використовувати comprehensions, а коли їх слід уникати?"
      ],
      "metadata": {
        "id": "pYPs9w7hoyNc"
      }
    },
    {
      "cell_type": "code",
      "source": [
        "dict5 = {num : num // 1 if num % 6 == 0 else num % 6 for num in range(14)}\n",
        "print(dict5)"
      ],
      "metadata": {
        "colab": {
          "base_uri": "https://localhost:8080/"
        },
        "id": "MPLl_y02o5kx",
        "outputId": "6fde0cea-f849-4ed1-d1f2-0f8612469907"
      },
      "execution_count": 12,
      "outputs": [
        {
          "output_type": "stream",
          "name": "stdout",
          "text": [
            "{0: 0, 1: 1, 2: 2, 3: 3, 4: 4, 5: 5, 6: 6, 7: 1, 8: 2, 9: 3, 10: 4, 11: 5, 12: 12, 13: 1}\n"
          ]
        }
      ]
    },
    {
      "cell_type": "markdown",
      "source": [
        "Зручно використовувати коли ми знаємо конкретні дані які нам потрібно отримати в одному словнику чи списку, тощо"
      ],
      "metadata": {
        "id": "S6r89aZapLtO"
      }
    },
    {
      "cell_type": "markdown",
      "source": [
        "6. Створіть список з рядками та запишіть його у змінну. Створіть ще один список на основі попереднього, де кожен рядок буде містити тільки три перших заглавних символи. Наприклад: ['hello', 'i', 'dont', 'care'] -> ['HEL', 'I', 'DON', 'CAR']. Використання comprehensions обовʼязкове."
      ],
      "metadata": {
        "id": "EDgmbtfPpVjM"
      }
    },
    {
      "cell_type": "code",
      "source": [
        "list6 = ['hello', 'i', 'dont', 'care']\n",
        "list6 = [str[0:3].upper() for str in list6]\n",
        "print(list6)"
      ],
      "metadata": {
        "colab": {
          "base_uri": "https://localhost:8080/"
        },
        "id": "A3KErIy6pY3t",
        "outputId": "103c3a92-9bb0-4de0-e9f8-b93903c5fa46"
      },
      "execution_count": 15,
      "outputs": [
        {
          "output_type": "stream",
          "name": "stdout",
          "text": [
            "['HEL', 'I', 'DON', 'CAR']\n"
          ]
        }
      ]
    },
    {
      "cell_type": "markdown",
      "source": [
        "III. Цикли."
      ],
      "metadata": {
        "id": "7Hym_qASp5Zg"
      }
    },
    {
      "cell_type": "markdown",
      "source": [
        "7. Продемонструйте роботу циклу while. Не можна використовувати True для запуску циклу, щоб уникнути безкінечного циклу!"
      ],
      "metadata": {
        "id": "-rh53Cmnp7I9"
      }
    },
    {
      "cell_type": "code",
      "source": [
        "num7 = 1\n",
        "while num7 < 19:\n",
        "  if num7 % 3 == 0:\n",
        "     print(num7)\n",
        "  num7 += 1"
      ],
      "metadata": {
        "colab": {
          "base_uri": "https://localhost:8080/"
        },
        "id": "qiC6-eCKroTS",
        "outputId": "f8147f8c-aee9-4cae-9474-9defd7ce7a39"
      },
      "execution_count": 28,
      "outputs": [
        {
          "output_type": "stream",
          "name": "stdout",
          "text": [
            "3\n",
            "6\n",
            "9\n",
            "12\n",
            "15\n",
            "18\n"
          ]
        }
      ]
    },
    {
      "cell_type": "markdown",
      "source": [
        "8. Напишіть програму, яка виведе на екран непарні числа в діапазоні від 0 до 20 включно."
      ],
      "metadata": {
        "id": "P_XcFbfArq-d"
      }
    },
    {
      "cell_type": "code",
      "source": [
        "for f in range(0, 21, 1):\n",
        "  if f % 2 != 0:\n",
        "    print(f)\n"
      ],
      "metadata": {
        "colab": {
          "base_uri": "https://localhost:8080/"
        },
        "id": "CWiCVhgsrt2B",
        "outputId": "96a45830-244a-4982-c4fc-554104c8a2f1"
      },
      "execution_count": 29,
      "outputs": [
        {
          "output_type": "stream",
          "name": "stdout",
          "text": [
            "1\n",
            "3\n",
            "5\n",
            "7\n",
            "9\n",
            "11\n",
            "13\n",
            "15\n",
            "17\n",
            "19\n"
          ]
        }
      ]
    },
    {
      "cell_type": "markdown",
      "source": [
        "9.Створіть список з елементами булевого типу або None. Використовуючи цикли, отримайте в результаті список з кортежами, де перший елемент кортежу - індекс(ціле число), а другий елемент - відповідне значення з першого списку.\n"
      ],
      "metadata": {
        "id": "9ykk-QWlsIje"
      }
    },
    {
      "cell_type": "code",
      "source": [
        "list9 = [False, True, None, False, False, None, None]\n",
        "tuples9 = []\n",
        "for f in range(0, len(list9)):\n",
        "  tuples9.append((f, list9[f]))\n",
        "print(tuples9)"
      ],
      "metadata": {
        "colab": {
          "base_uri": "https://localhost:8080/"
        },
        "id": "TPKd9fUcsTVG",
        "outputId": "03b289d6-66ae-45de-81ef-a5a56d91ab89"
      },
      "execution_count": 31,
      "outputs": [
        {
          "output_type": "stream",
          "name": "stdout",
          "text": [
            "[(0, False), (1, True), (2, None), (3, False), (4, False), (5, None), (6, None)]\n"
          ]
        }
      ]
    },
    {
      "cell_type": "markdown",
      "source": [
        "10.Створіть словник, де ключі - назви книжок, а значення - їхня кількість у наявності в Вашій міні-бібліотеці. Бібліотека має містити щонайменше 6 книжок (6 пар значень у словнику) і щонайбільше 10 (пар значень). Використовуючи цикли, оновіть словник (не створюйте новий) так, щоби кількість книг у наявності збільшилося на 5 кожної книги. Наприклад, {'It': 3, 'Fault stars': 10, 'Bible': 17, 'Psychological romance': 4, 'Harry Potter': 13} -> {'It': 8, 'Fault stars': 15, 'Bible': 22, 'Psychological romance': 9, 'Harry Potter': 18}"
      ],
      "metadata": {
        "id": "N7WkXCDUsnaK"
      }
    },
    {
      "cell_type": "code",
      "source": [
        "dict10 = {'It': 3, 'Fault stars': 10, 'Bible': 17, 'Psychological romance': 4, 'Harry Potter': 13, \"A Little Life\": 11}\n",
        "for key in dict10.keys():\n",
        "  dict10[key] += 5\n",
        "print(dict10)"
      ],
      "metadata": {
        "colab": {
          "base_uri": "https://localhost:8080/"
        },
        "id": "igQ9AEukspLJ",
        "outputId": "5ca9a8ba-198a-47ef-e361-496d8239fca0"
      },
      "execution_count": 32,
      "outputs": [
        {
          "output_type": "stream",
          "name": "stdout",
          "text": [
            "{'It': 8, 'Fault stars': 15, 'Bible': 22, 'Psychological romance': 9, 'Harry Potter': 18, 'A Little Life': 16}\n"
          ]
        }
      ]
    },
    {
      "cell_type": "markdown",
      "source": [
        "11. Визначте цілочислену змінну n, що належить проміжку від 4 до 10 включно. Використовуючи цикли, виведіть в консоль наступний патерн.\n",
        "... #*n"
      ],
      "metadata": {
        "id": "R5bN2qD-s_cP"
      }
    },
    {
      "cell_type": "code",
      "source": [
        "n = 7\n",
        "for i in range(0, n):\n",
        "  print(\"#\" * (i + 1))"
      ],
      "metadata": {
        "colab": {
          "base_uri": "https://localhost:8080/"
        },
        "id": "_CYW1t-2yAGC",
        "outputId": "2f9db9c0-603c-4ac9-82ca-101d85470dba"
      },
      "execution_count": 33,
      "outputs": [
        {
          "output_type": "stream",
          "name": "stdout",
          "text": [
            "#\n",
            "##\n",
            "###\n",
            "####\n",
            "#####\n",
            "######\n",
            "#######\n"
          ]
        }
      ]
    },
    {
      "cell_type": "markdown",
      "source": [
        "12. Гра \"Нумо вгадай\". Розробіть просту гру, де користувач має вгадати випадкове число від 1 до 100. Для генерації випадкового числа використовуйте функцію random.randint(a, b) (тут a та b включно). Для отримання числа з консолі використовуйте функцію input(), результат якої обовʼязково явно приведіть до типу int."
      ],
      "metadata": {
        "id": "HuwkOtuzyJSM"
      }
    },
    {
      "cell_type": "markdown",
      "source": [],
      "metadata": {
        "id": "qO0LaHils_VO"
      }
    },
    {
      "cell_type": "code",
      "source": [
        "import random\n",
        "\n",
        "random_number = random.randint(1, 100)\n",
        "attempts = 3\n",
        "\n",
        "while True:\n",
        "  my_number = int(input())\n",
        "  attempts += 1\n",
        "  if (my_number < random_number):\n",
        "    print(\"Більше\")\n",
        "  elif (my_number > random_number):\n",
        "    print(\"Менше\")\n",
        "  else:\n",
        "    print(\"Ура! Ви вгадали! Кількість спроб - \", attempts)\n",
        "    break"
      ],
      "metadata": {
        "colab": {
          "base_uri": "https://localhost:8080/"
        },
        "id": "w4oTWWIMyikB",
        "outputId": "b7209dff-2714-4df3-d45d-b57b5a62052c"
      },
      "execution_count": 36,
      "outputs": [
        {
          "output_type": "stream",
          "name": "stdout",
          "text": [
            "30\n",
            "Більше\n",
            "11\n",
            "Більше\n",
            "87\n",
            "Менше\n",
            "50\n",
            "Менше\n",
            "31\n",
            "Більше\n",
            "40\n",
            "Більше\n",
            "46\n",
            "Менше\n",
            "44\n",
            "Ура! Ви вгадали! Кількість спроб -  11\n"
          ]
        }
      ]
    }
  ]
}