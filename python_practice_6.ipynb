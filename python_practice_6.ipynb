{
  "nbformat": 4,
  "nbformat_minor": 0,
  "metadata": {
    "colab": {
      "provenance": [],
      "include_colab_link": true
    },
    "kernelspec": {
      "name": "python3",
      "display_name": "Python 3"
    },
    "language_info": {
      "name": "python"
    }
  },
  "cells": [
    {
      "cell_type": "markdown",
      "metadata": {
        "id": "view-in-github",
        "colab_type": "text"
      },
      "source": [
        "<a href=\"https://colab.research.google.com/github/JuliaDrevnytska/pythonProject4/blob/main/python_practice_6.ipynb\" target=\"_parent\"><img src=\"https://colab.research.google.com/assets/colab-badge.svg\" alt=\"Open In Colab\"/></a>"
      ]
    },
    {
      "cell_type": "markdown",
      "source": [
        "# I. Docstrings."
      ],
      "metadata": {
        "id": "5qvkYXU42nND"
      }
    },
    {
      "cell_type": "markdown",
      "source": [
        "1. Що таке docstrings? Навіщо вони потрібні?"
      ],
      "metadata": {
        "id": "7VUggLjZ4NNb"
      }
    },
    {
      "cell_type": "markdown",
      "source": [
        "Docstrings  - це спеціальний вид коментарів, які використовуються для документування модулів, класів, функцій та методів. Потрібні, щоб покращувати читабельність, зрозумілість."
      ],
      "metadata": {
        "id": "_oqTO_30GlHj"
      }
    },
    {
      "cell_type": "markdown",
      "source": [
        "2. Створіть docstrings для функції, що розраховує суму двох цілих чисел та повертає їхню суму."
      ],
      "metadata": {
        "id": "bRumAhtgG3jV"
      }
    },
    {
      "cell_type": "code",
      "source": [
        "def calculate_sum(a, b):\n",
        "    \"\"\"\n",
        "    Функція розраховує суму двох цілих чисел.\n",
        "\n",
        "    Параметри:\n",
        "    a (int): Перше ціле число.\n",
        "    b (int): Друге ціле число.\n",
        "\n",
        "    Розраховує:\n",
        "    int: Суму першого і другого цілих чисел.\n",
        "    \"\"\"\n",
        "    return a + b\n"
      ],
      "metadata": {
        "id": "G_xCtwQGGkew"
      },
      "execution_count": 3,
      "outputs": []
    },
    {
      "cell_type": "markdown",
      "source": [
        "3. Визначте функцію, що розраховує суму двох цілих чисел та повертає їхню суму, використовуючи документацію з завдання 2."
      ],
      "metadata": {
        "id": "gibK8CjDHBfc"
      }
    },
    {
      "cell_type": "code",
      "execution_count": 4,
      "metadata": {
        "id": "wh5tMJgh0zer"
      },
      "outputs": [],
      "source": [
        "def calculate_sum(a, b):\n",
        "  return a + b"
      ]
    },
    {
      "cell_type": "markdown",
      "source": [
        "4. Створіть docstring для функції, що перевіряє, чи є число простим. Увага: під час виклику функції ми очікуємо, що користувач(ка) може подати на вхід будь-який тип обʼєкту. У випадку, якщо на вході не підходящий тип даних, маємо кинути помилку."
      ],
      "metadata": {
        "id": "PI-mNDQNIDUm"
      }
    },
    {
      "cell_type": "code",
      "source": [
        " \"\"\"\n",
        "    Перевіряє, чи є число простим.\n",
        "\n",
        "    Параметри:\n",
        "    n (int):\n",
        "        Число, яке потрібно перевірити на простоту.\n",
        "\n",
        "    Повертає:\n",
        "    (bool):\n",
        "        True, якщо число є простим, і False в іншому випадку.\n",
        "\n",
        "    Виключення:\n",
        "    TypeError\n",
        "        Якщо аргумент не є цілим числом.\n",
        "    \"\"\""
      ],
      "metadata": {
        "id": "3nTbEkJ0I4Gn"
      },
      "execution_count": null,
      "outputs": []
    },
    {
      "cell_type": "markdown",
      "source": [
        "5. Визначте функцію, яка перевіряє, чи є число простим, використовуючи документацію з завдання 4."
      ],
      "metadata": {
        "id": "OMRx9emvI4NM"
      }
    },
    {
      "cell_type": "code",
      "source": [
        "def prime(n):\n",
        "  if not isinstance(n, int):\n",
        "    raise TypeError\n",
        "  elif n == 1 or n == 2:\n",
        "    return True\n",
        "  else:\n",
        "    for i in range(2, n):\n",
        "      if n % i == 0:\n",
        "        return False\n",
        "  return True\n",
        "\n",
        "print(prime(80))\n",
        "print(prime(7))"
      ],
      "metadata": {
        "id": "wONHC4OEJARD",
        "colab": {
          "base_uri": "https://localhost:8080/"
        },
        "outputId": "809982e7-ebaa-472a-d896-db531900b22c"
      },
      "execution_count": 8,
      "outputs": [
        {
          "output_type": "stream",
          "name": "stdout",
          "text": [
            "False\n",
            "True\n"
          ]
        }
      ]
    },
    {
      "cell_type": "markdown",
      "source": [
        "6. Створіть docstring для функції, що повертає найдовший спільний префікс двох рядків не залежно від регістру. Обовʼязково включіть два приклади згідно формату."
      ],
      "metadata": {
        "id": "1r9WQ5Y9JULV"
      }
    },
    {
      "cell_type": "code",
      "source": [
        "\"\"\"\n",
        "    Повертає найдовший спільний префікс двох рядків незалежно від регістру.\n",
        "\n",
        "    Параметри:\n",
        "    str1 : str\n",
        "        Перший рядок.\n",
        "    str2 : str\n",
        "        Другий рядок.\n",
        "\n",
        "    Повертає:\n",
        "    str\n",
        "        Найдовший спільний префікс двох рядків.\n",
        "\"\"\""
      ],
      "metadata": {
        "id": "mqTHuBGsKY2V"
      },
      "execution_count": null,
      "outputs": []
    },
    {
      "cell_type": "markdown",
      "source": [
        "7. Реалізуйте функцію згідно документації із завдання 6, використовуючи її."
      ],
      "metadata": {
        "id": "ZVkQ4jo2KZrx"
      }
    },
    {
      "cell_type": "code",
      "source": [
        "def longest_common_prefix(str1, str2):\n",
        "    prefix = []\n",
        "    for char1, char2 in zip(str1, str2):\n",
        "        if char1 != char2:\n",
        "            break\n",
        "        prefix.append(char1)\n",
        "    return ''.join(prefix)\n",
        "\n",
        "print(longest_common_prefix(\"apple\", \"apricot\"))\n",
        "print(longest_common_prefix(\"car\", \"cat\"))\n"
      ],
      "metadata": {
        "id": "e1odBJATKd7L",
        "colab": {
          "base_uri": "https://localhost:8080/"
        },
        "outputId": "528dd3f3-c7b5-4045-bcad-3bd5599c9da3"
      },
      "execution_count": 19,
      "outputs": [
        {
          "output_type": "stream",
          "name": "stdout",
          "text": [
            "ap\n",
            "ca\n"
          ]
        }
      ]
    },
    {
      "cell_type": "markdown",
      "source": [
        "8. Створіть docstring для функції, що розраховує суму щомісячного платежу по єОселі."
      ],
      "metadata": {
        "id": "OXbxPfuZKlQb"
      }
    },
    {
      "cell_type": "code",
      "source": [
        "\"\"\"\n",
        "    Розраховує щомісячний платіж по кредиту на придбання оселі.\n",
        "\n",
        "    Параметри:\n",
        "    price : float Сума грошей, яка позичається.\n",
        "    rate : float  Річний відсоток.\n",
        "    years : int Термін кредиту в роках.\n",
        "\n",
        "    Повертає:\n",
        "    float Щромісячний платіж\n",
        "\"\"\""
      ],
      "metadata": {
        "id": "iFGckfs3KqHq"
      },
      "execution_count": null,
      "outputs": []
    },
    {
      "cell_type": "markdown",
      "source": [
        "9. Використовуючи документацію із завдання 8, реалізуйте відповідну функцію."
      ],
      "metadata": {
        "id": "xQjsUPhAOUq1"
      }
    },
    {
      "cell_type": "code",
      "source": [
        "def calculate_monthly_payment(price, rate, years):\n",
        "\n",
        "    first_payment_amount = price * 20 / 100\n",
        "    loan_amount = price - first_payment_amount\n",
        "    number_of_payments = years * 12\n",
        "    monthly_rate = rate / 100 / 12\n",
        "\n",
        "    monthly_payment = loan_amount * monthly_rate / (1 - (1 + monthly_rate) ** - number_of_payments)\n",
        "\n",
        "    return round(monthly_payment, 6)\n",
        "\n",
        "print(calculate_monthly_payment(4500000, 6, 25))\n",
        "\n"
      ],
      "metadata": {
        "id": "H3_FpZW7OUAA",
        "colab": {
          "base_uri": "https://localhost:8080/"
        },
        "outputId": "88270f20-fd7c-4530-c43c-a06437caff7e"
      },
      "execution_count": 29,
      "outputs": [
        {
          "output_type": "stream",
          "name": "stdout",
          "text": [
            "23194.850453\n"
          ]
        }
      ]
    },
    {
      "cell_type": "markdown",
      "source": [
        "# II. Errors and exceptions handling."
      ],
      "metadata": {
        "id": "uPyZWU1r2q-s"
      }
    },
    {
      "cell_type": "markdown",
      "source": [
        "10. Реалізуйте функцію, яка отримує значення зі словника за ключем та повертає його, а за умови відсутності ключа відловлює KeyError."
      ],
      "metadata": {
        "id": "GJAVQ9SJbARP"
      }
    },
    {
      "cell_type": "code",
      "source": [
        "def get_value_from_dict(dictionary, key):\n",
        "    try:\n",
        "        value = dictionary[key]\n",
        "        return value\n",
        "    except KeyError:\n",
        "        print(f\"Ключ '{key}' відсутній в словнику.\")\n",
        "\n",
        "my_dict = {'a': 1, 'b': 2, 'c': 3}\n",
        "try:\n",
        "    print(get_value_from_dict(my_dict, 'a'))\n",
        "    print(get_value_from_dict(my_dict, 'g'))\n",
        "except KeyError:\n",
        "    print(\"Відбулася помилка KeyError.\")\n"
      ],
      "metadata": {
        "id": "01YDTgxI4IK7",
        "colab": {
          "base_uri": "https://localhost:8080/"
        },
        "outputId": "559257ff-a6a8-41da-cb10-2b5ff9eeb7ad"
      },
      "execution_count": 31,
      "outputs": [
        {
          "output_type": "stream",
          "name": "stdout",
          "text": [
            "1\n",
            "Ключ 'g' відсутній в словнику.\n",
            "None\n"
          ]
        }
      ]
    },
    {
      "cell_type": "markdown",
      "source": [
        "11. Реалізуйте функцію із завдання 10 без відловлювання помилки, однак за допомогою конструкції if-else."
      ],
      "metadata": {
        "id": "IwpB9_4Jbttd"
      }
    },
    {
      "cell_type": "code",
      "source": [
        "def get_value_from_dict(dictionary, key):\n",
        "    if key in dictionary.keys():\n",
        "        return dictionary[key]\n",
        "    else:\n",
        "        print(f\"Ключ '{key}' відсутній в словнику.\")\n",
        "\n",
        "\n",
        "my_dict = {'a': 1, 'b': 2, 'c': 3}\n",
        "print(get_value_from_dict(my_dict, 'a'))\n",
        "print(get_value_from_dict(my_dict, 'g'))\n"
      ],
      "metadata": {
        "id": "qSEr1bCQbtC1",
        "colab": {
          "base_uri": "https://localhost:8080/"
        },
        "outputId": "3b27317f-4f85-4312-8240-4f1c6850419d"
      },
      "execution_count": 34,
      "outputs": [
        {
          "output_type": "stream",
          "name": "stdout",
          "text": [
            "1\n",
            "Ключ 'g' відсутній в словнику.\n",
            "None\n"
          ]
        }
      ]
    },
    {
      "cell_type": "markdown",
      "source": [
        "12. Реалізуйте функцію з завдання 10, використовуючи метод словника, який дозволяє зробити операцію навіть без if-else."
      ],
      "metadata": {
        "id": "H4iygP7xb7xB"
      }
    },
    {
      "cell_type": "code",
      "source": [
        "def get_value_from_dict(dictionary, key):\n",
        "    return dictionary.get(key)\n",
        "\n",
        "    my_dict = {'a': 1, 'b': 2, 'c': 3}\n",
        "print(get_value_from_dict(my_dict, 'a'))\n",
        "print(get_value_from_dict(my_dict, 'g'))"
      ],
      "metadata": {
        "id": "IjFPCfCXcFMF",
        "colab": {
          "base_uri": "https://localhost:8080/"
        },
        "outputId": "75baa78d-e271-47c4-b5a9-1be785370dea"
      },
      "execution_count": 37,
      "outputs": [
        {
          "output_type": "stream",
          "name": "stdout",
          "text": [
            "1\n",
            "None\n"
          ]
        }
      ]
    },
    {
      "cell_type": "markdown",
      "source": [
        "13. Визначте функцію, яка обробляє значення, введене користувачем з терміналу, приводячи його до цілого числа. Використайте відловлення відповідної помилки. Наприклад, людина має ввести свій вік."
      ],
      "metadata": {
        "id": "V7UB77SvcFiH"
      }
    },
    {
      "cell_type": "code",
      "source": [
        "def get_age(prompt):\n",
        "    while True:\n",
        "        try:\n",
        "            user_input = input(prompt)\n",
        "            integer_value = int(user_input)\n",
        "            return integer_value\n",
        "        except ValueError:\n",
        "            print(\"Будь ласка, введіть ціле число.\")\n",
        "\n",
        "age = get_age(\"Введіть ваш вік: \")\n",
        "print(\"Ваш вік:\", age)\n"
      ],
      "metadata": {
        "id": "OEkZInsUce-g",
        "colab": {
          "base_uri": "https://localhost:8080/"
        },
        "outputId": "0f1831ad-1aac-4b65-b30a-c22cb736312c"
      },
      "execution_count": 41,
      "outputs": [
        {
          "output_type": "stream",
          "name": "stdout",
          "text": [
            "Введіть ваш вік: 78\n",
            "Ваш вік: 78\n"
          ]
        }
      ]
    },
    {
      "cell_type": "markdown",
      "source": [
        "14. Визначте функцію з завдання 13, де використайте конструкцію if-else замість відловдення помилки."
      ],
      "metadata": {
        "id": "nvQo1fzjcfYI"
      }
    },
    {
      "cell_type": "code",
      "source": [
        "def get_age(prompt):\n",
        "    while True:\n",
        "        user_input = input(prompt)\n",
        "        if user_input.isdigit():\n",
        "            return int(user_input)\n",
        "        else:\n",
        "            print(\"Будь ласка, введіть ціле число.\")\n",
        "\n",
        "age = get_age(\"Введіть ваш вік: \")\n",
        "print(\"Ваш вік:\", age)\n"
      ],
      "metadata": {
        "id": "bQF8LazacpUI",
        "colab": {
          "base_uri": "https://localhost:8080/"
        },
        "outputId": "5eb56ea6-9996-44d1-fc8f-213c0a5f6acd"
      },
      "execution_count": 42,
      "outputs": [
        {
          "output_type": "stream",
          "name": "stdout",
          "text": [
            "Введіть ваш вік: 67\n",
            "Ваш вік: 67\n"
          ]
        }
      ]
    },
    {
      "cell_type": "markdown",
      "source": [
        "15. Визначте функцію з завдання 13, враховуючи додаткове обмеження, що число має бути у діапазоні від 18 до 120 (повнолітня людина). Відловіть відповідні типи помилок."
      ],
      "metadata": {
        "id": "l4RoecD_dIj5"
      }
    },
    {
      "cell_type": "code",
      "source": [
        "def get_age(prompt):\n",
        "    while True:\n",
        "        try:\n",
        "            age = int(input(prompt))\n",
        "            if 18 <= age <= 120:\n",
        "                return age\n",
        "            else:\n",
        "                print(\"Введіть ціле число у діапазоні від 18 до 120.\")\n",
        "        except ValueError:\n",
        "            print(\"Введіть ціле число.\")\n",
        "\n",
        "age = get_age(\"Введіть ваш вік: \")\n",
        "print(\"Ваш вік:\", age)"
      ],
      "metadata": {
        "id": "SeHKtFGTdiyD",
        "colab": {
          "base_uri": "https://localhost:8080/"
        },
        "outputId": "324ed135-c5fe-44e6-c0df-6d7e37b1356f"
      },
      "execution_count": 46,
      "outputs": [
        {
          "output_type": "stream",
          "name": "stdout",
          "text": [
            "Введіть ваш вік: 6\n",
            "Введіть ціле число у діапазоні від 18 до 120.\n",
            "Введіть ваш вік: 19\n",
            "Ваш вік: 19\n"
          ]
        }
      ]
    },
    {
      "cell_type": "markdown",
      "source": [
        "16. Напишіть код, який би генерував максимальну кількість помилок різного типу."
      ],
      "metadata": {
        "id": "MAn64KyreVC4"
      }
    },
    {
      "cell_type": "code",
      "source": [
        "def generate_errors():\n",
        "\n",
        "print(1 2)\n",
        "\n",
        "my_list = [1, 2, 3]\n",
        "print(my_list[3])\n",
        "\n",
        "print(5 / 0)\n",
        "\n",
        "generate_errors()"
      ],
      "metadata": {
        "id": "DzuV3uQpeb-U"
      },
      "execution_count": null,
      "outputs": []
    },
    {
      "cell_type": "markdown",
      "source": [
        "17. Наскільки це можливо, виправте код із завдання 16."
      ],
      "metadata": {
        "id": "5VFbEKQkecMz"
      }
    },
    {
      "cell_type": "code",
      "source": [
        "def generate_results():\n",
        "    print( 1 + 2)\n",
        "\n",
        "    my_list = [1, 2, 3]\n",
        "    print( my_list[-1])\n",
        "\n",
        "    print( 5 / 1)\n",
        "\n",
        "generate_results()\n"
      ],
      "metadata": {
        "id": "peMOBz9ieiur",
        "colab": {
          "base_uri": "https://localhost:8080/"
        },
        "outputId": "4d93e327-5d87-4555-adbb-6adef54e7fff"
      },
      "execution_count": 50,
      "outputs": [
        {
          "output_type": "stream",
          "name": "stdout",
          "text": [
            "3\n",
            "3\n",
            "5.0\n"
          ]
        }
      ]
    }
  ]
}