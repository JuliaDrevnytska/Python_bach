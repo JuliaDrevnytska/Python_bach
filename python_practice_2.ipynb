{
 "cells": [
  {
   "metadata": {},
   "cell_type": "markdown",
   "source": [
    "I. Змінні та памʼять.\n",
    "Створити змінні, що посилаються на два цілих числа, що однакові за значенням, де значення належить проміжку від -5 до 256. Перевірте, чи будуть ці змінні рівні тільки за значенням або ж ще будуть посилатися на один і той самий обʼєкт в памʼяті? Наведіть код та дайте текстову відповідь нижче."
   ],
   "id": "2a7332349fa0b450"
  },
  {
   "metadata": {},
   "cell_type": "markdown",
   "source": "",
   "id": "7b0973a5e42e9565"
  },
  {
   "metadata": {
    "ExecuteTime": {
     "end_time": "2024-04-09T10:32:36.233457Z",
     "start_time": "2024-04-09T10:32:36.225655Z"
    }
   },
   "cell_type": "code",
   "source": [
    "a1 = 15\n",
    "b1 = 15\n",
    "print(id(a1) == id(b1))"
   ],
   "id": "fe76a66a03eb2158",
   "outputs": [
    {
     "name": "stdout",
     "output_type": "stream",
     "text": [
      "True\n"
     ]
    }
   ],
   "execution_count": 3
  },
  {
   "metadata": {},
   "cell_type": "markdown",
   "source": "Так, посилатимуться на один і той самий обʼєкт в памʼяті",
   "id": "2f55787ba632ee1e"
  },
  {
   "metadata": {},
   "cell_type": "markdown",
   "source": [
    "2.За допомогою якої функції можна перевірити належність змінної до вказаного типу даних (напр. чи змінна True посилається на значення булевого та цілочисленого типу)?\n",
    "\n"
   ],
   "id": "b02f0798f8aafa51"
  },
  {
   "metadata": {},
   "cell_type": "markdown",
   "source": "",
   "id": "dbf32f602175f675"
  },
  {
   "metadata": {
    "ExecuteTime": {
     "end_time": "2024-04-09T10:36:47.994504Z",
     "start_time": "2024-04-09T10:36:47.986949Z"
    }
   },
   "cell_type": "code",
   "source": [
    "bool2 = True\n",
    "float2 = 3.6\n",
    "print(isinstance(bool2, bool))\n",
    "print(isinstance(float2, int))"
   ],
   "id": "e48de8fcb6f259a3",
   "outputs": [
    {
     "name": "stdout",
     "output_type": "stream",
     "text": [
      "True\n",
      "False\n"
     ]
    }
   ],
   "execution_count": 6
  },
  {
   "metadata": {},
   "cell_type": "markdown",
   "source": "II. Цілі числа та числа з рухомою комою",
   "id": "c903bec9939ffe42"
  },
  {
   "metadata": {},
   "cell_type": "markdown",
   "source": "3. Створити дві змінні, що посилаються на будь-які ціле число та число з рухомою комою та продемонструвати такі арифметичні операції: додавання, віднімання, ділення, множення, ділення без залишку, ділення по модулю, приведення до ступеню. Всі результати операцій вивести на екран.",
   "id": "45d1bcb63e1085b9"
  },
  {
   "metadata": {
    "ExecuteTime": {
     "end_time": "2024-04-09T10:40:49.451986Z",
     "start_time": "2024-04-09T10:40:49.441235Z"
    }
   },
   "cell_type": "code",
   "source": [
    "a2 = 32\n",
    "b2 = 21\n",
    "print(a2 + b2)\n",
    "print(a2 - b2)\n",
    "print(a2 / b2)\n",
    "print(a2 * b2)\n",
    "print(a2 // b2)\n",
    "print(a2 % b2)\n",
    "print(a2 ** b2)\n"
   ],
   "id": "3118913859d82fc1",
   "outputs": [
    {
     "name": "stdout",
     "output_type": "stream",
     "text": [
      "53\n",
      "11\n",
      "1.5238095238095237\n",
      "672\n",
      "1\n",
      "11\n",
      "40564819207303340847894502572032\n"
     ]
    }
   ],
   "execution_count": 9
  },
  {
   "metadata": {},
   "cell_type": "markdown",
   "source": "4.Використовуючи змінні з вправи 3, продемонструйте механізм явного перетворення типів, де числа з рухомою комою перетворюються на цілі числа. Також визначте змінну, що посилається на значення булевого типу і спробуйте явно привести її до цілого числа.\n",
   "id": "98115842268ecb45"
  },
  {
   "metadata": {
    "ExecuteTime": {
     "end_time": "2024-04-09T10:42:02.032931Z",
     "start_time": "2024-04-09T10:42:02.023128Z"
    }
   },
   "cell_type": "code",
   "source": [
    "print(int(b2))\n",
    "bool3 = True\n",
    "print(int(bool3))"
   ],
   "id": "1933a1b8880484a7",
   "outputs": [
    {
     "name": "stdout",
     "output_type": "stream",
     "text": [
      "21\n",
      "1\n"
     ]
    }
   ],
   "execution_count": 11
  },
  {
   "metadata": {},
   "cell_type": "markdown",
   "source": "IІІ. Рядки (String)\n",
   "id": "a1a20a43a38ed75f"
  },
  {
   "metadata": {},
   "cell_type": "markdown",
   "source": "5.Створити пустий рядок двома різними способами.",
   "id": "b50df9fa9a8f6e7d"
  },
  {
   "metadata": {
    "ExecuteTime": {
     "end_time": "2024-04-09T10:43:46.459016Z",
     "start_time": "2024-04-09T10:43:46.443701Z"
    }
   },
   "cell_type": "code",
   "source": [
    "str5_1 = \"Yuliia\"\n",
    "str5_2 = 'Yuliia'"
   ],
   "id": "e0c4f597c84167d3",
   "outputs": [],
   "execution_count": 14
  },
  {
   "metadata": {},
   "cell_type": "markdown",
   "source": "6.Створити рядок з апострофом. Зробити його сирим. Вивести обидва рядка на екран.",
   "id": "d24d14f9a2bb2c7"
  },
  {
   "metadata": {
    "ExecuteTime": {
     "end_time": "2024-04-09T10:47:58.427353Z",
     "start_time": "2024-04-09T10:47:58.418036Z"
    }
   },
   "cell_type": "code",
   "source": [
    "str6 = 'Yuliia\\'Drevnytska'\n",
    "str6_raw = r'Yuliia\\'Drevnytska'\n",
    "print(str6)\n",
    "print(str6_raw)"
   ],
   "id": "a83e660749279436",
   "outputs": [
    {
     "name": "stdout",
     "output_type": "stream",
     "text": [
      "Yuliia'Drevnytska\n",
      "Yuliia\\'Drevnytska\n"
     ]
    }
   ],
   "execution_count": 22
  },
  {
   "metadata": {},
   "cell_type": "markdown",
   "source": "7. Створити змінну, що буде посилатися на Ваше прізвище латинкою. Створити форматований рядок, який буде мати вигляд \"My surname is ______\", де на місці нижніх підкреслень буде Ваше прізвище зі змінної.\n",
   "id": "ce10a0bef5d0a240"
  },
  {
   "metadata": {
    "ExecuteTime": {
     "end_time": "2024-04-09T10:50:30.870359Z",
     "start_time": "2024-04-09T10:50:30.863418Z"
    }
   },
   "cell_type": "code",
   "source": [
    "str7 = \"My surname is\"\n",
    "str7_surname = \"Drevnytska\"\n",
    "str7_result = str7 + \" \" + str7_surname\n",
    "print(str7_result)\n"
   ],
   "id": "ebc1d44b52c3c6dd",
   "outputs": [
    {
     "name": "stdout",
     "output_type": "stream",
     "text": [
      "My surname is Drevnytska\n"
     ]
    }
   ],
   "execution_count": 24
  },
  {
   "metadata": {},
   "cell_type": "markdown",
   "source": "8.Маючи рядок \"My dog is crazy.\" перетворити його на список [\"my\", \"dog\", \"is\", \"crazy\"]",
   "id": "eecdaa8e6ba77f7b"
  },
  {
   "metadata": {
    "ExecuteTime": {
     "end_time": "2024-04-09T10:52:36.921150Z",
     "start_time": "2024-04-09T10:52:36.916158Z"
    }
   },
   "cell_type": "code",
   "source": [
    "str8 = \"My dog is crazy.\"\n",
    "list8 = str8[:-1].lower().split()\n",
    "print(list8)"
   ],
   "id": "f1ed951ea08b442b",
   "outputs": [
    {
     "name": "stdout",
     "output_type": "stream",
     "text": [
      "['my', 'dog', 'is', 'crazy']\n"
     ]
    }
   ],
   "execution_count": 26
  },
  {
   "metadata": {},
   "cell_type": "markdown",
   "source": "IV. Робота зі списками.",
   "id": "b517d09a3e0e4814"
  },
  {
   "metadata": {},
   "cell_type": "markdown",
   "source": "9/.Створити список двома різними за синтаксисом способами. За допомогою вбудованої функції обчисліть довжину одного з них.",
   "id": "36e812b18636f204"
  },
  {
   "metadata": {
    "ExecuteTime": {
     "end_time": "2024-04-09T10:54:27.742627Z",
     "start_time": "2024-04-09T10:54:27.734498Z"
    }
   },
   "cell_type": "code",
   "source": [
    "list9_1 = [5, 2, -6, -9]\n",
    "list9_2 = list(range(-2, 15))\n",
    "\n",
    "print(len(list9_2))"
   ],
   "id": "7936eb66d248e3eb",
   "outputs": [
    {
     "name": "stdout",
     "output_type": "stream",
     "text": [
      "17\n"
     ]
    }
   ],
   "execution_count": 31
  },
  {
   "metadata": {},
   "cell_type": "markdown",
   "source": "10. Створіть два списка та за допомогою спеціального методу додайте другий з них в якості останнього елемента першого.",
   "id": "bde2c39d568af250"
  },
  {
   "metadata": {
    "ExecuteTime": {
     "end_time": "2024-04-09T10:55:11.993302Z",
     "start_time": "2024-04-09T10:55:11.985851Z"
    }
   },
   "cell_type": "code",
   "source": [
    "list10_1 = [6, -4]\n",
    "list10_2 = [-5, 0, 7]\n",
    "\n",
    "list10_1.extend(list10_2)\n",
    "print(list10_1)"
   ],
   "id": "fd74c31f5dddd2dd",
   "outputs": [
    {
     "name": "stdout",
     "output_type": "stream",
     "text": [
      "[6, -4, -5, 0, 7]\n"
     ]
    }
   ],
   "execution_count": 32
  },
  {
   "metadata": {},
   "cell_type": "markdown",
   "source": "11. Створіть список, де елементами цього списку також є списки. Отримай перший елемент з останнього рядка та виведи значення на екран",
   "id": "4e7761bfb0d0d3a8"
  },
  {
   "metadata": {
    "ExecuteTime": {
     "end_time": "2024-04-09T10:56:22.349131Z",
     "start_time": "2024-04-09T10:56:22.340903Z"
    }
   },
   "cell_type": "code",
   "source": [
    "list11_1 = [[6, -4], [-3, -1], [0, 5], [7, 12]]\n",
    "element11 = list11_1[len(list11_1) - 1][0]\n",
    "\n",
    "print(element11)"
   ],
   "id": "7d8b2ff06b22e96",
   "outputs": [
    {
     "name": "stdout",
     "output_type": "stream",
     "text": [
      "7\n"
     ]
    }
   ],
   "execution_count": 33
  },
  {
   "metadata": {},
   "cell_type": "markdown",
   "source": "12.Створіть список з десяти елементів різного типу. Отримайте всі елементи, окрім двох перших та двох останніх та збережіть їх в новій змінній.",
   "id": "b49cd5ff5186fd5"
  },
  {
   "metadata": {
    "ExecuteTime": {
     "end_time": "2024-04-09T10:59:31.519123Z",
     "start_time": "2024-04-09T10:59:31.513242Z"
    }
   },
   "cell_type": "code",
   "source": [
    "list12 = [\"Yuliia\", 13, 0, True, {6, -2}, (\"a1b2\", \"ab\"), False, 11, [5, -1], -7]\n",
    "list12_cut = list12[2:-2]\n",
    "print(list12_cut)"
   ],
   "id": "cd65b70b5e725ae5",
   "outputs": [
    {
     "name": "stdout",
     "output_type": "stream",
     "text": [
      "[0, True, {6, -2}, ('a1b2', 'ab'), False, 11]\n"
     ]
    }
   ],
   "execution_count": 34
  },
  {
   "metadata": {},
   "cell_type": "markdown",
   "source": "V. Робота з кортежами.\n",
   "id": "60f3f386ab1279bf"
  },
  {
   "metadata": {},
   "cell_type": "markdown",
   "source": "14.Створити кортеж з один елементом.",
   "id": "c3d14c200d8836e3"
  },
  {
   "metadata": {},
   "cell_type": "markdown",
   "source": "",
   "id": "763ab93c22eb976f"
  },
  {
   "metadata": {
    "ExecuteTime": {
     "end_time": "2024-04-09T11:00:49.787020Z",
     "start_time": "2024-04-09T11:00:49.781385Z"
    }
   },
   "cell_type": "code",
   "source": "tuple13 = (3)",
   "id": "89cbd263cc783872",
   "outputs": [],
   "execution_count": 35
  },
  {
   "metadata": {},
   "cell_type": "markdown",
   "source": "15.Порівняйте список та кортеж. Назвіть схожості та відмінності, випадки використання.",
   "id": "68b798de8b1f4e5"
  },
  {
   "metadata": {},
   "cell_type": "markdown",
   "source": [
    "Список створюється з квадратних дужок [], кортеж - з круглих ().\n",
    "Список використовується, коли потрібна змінна колекція; кортеж - коли дані повинні залишатися незмінними.\n"
   ],
   "id": "b1174fe3c39e8826"
  },
  {
   "metadata": {},
   "cell_type": "markdown",
   "source": "16. Створіть кортеж з 11ти елементів чисел з рухомою комою та отримайте кожен парний за індексом елемент в зворотньому порядку. Наприклад, маючи (1.2, 2.3, 3.3, 4.3, 5.3, 6.3, 7.3, 8.3, 9.3, 0.3), отримати (0.3, 8.3, 6.3, 4.3, 2.3). Результат збережіть в нову змінну та виведіть на екран.",
   "id": "a3b5ac2b438f71f2"
  },
  {
   "metadata": {
    "ExecuteTime": {
     "end_time": "2024-04-09T11:04:55.288267Z",
     "start_time": "2024-04-09T11:04:55.268372Z"
    }
   },
   "cell_type": "code",
   "source": [
    "tuple16_1 = (1.2, 2.3, 3.3, 4.3, 5.3, 6.3, 7.3, 8.3, 9.3, 0.3)\n",
    "tuple16_2 = tuple16_1[::-2]\n",
    "print(tuple16_2)"
   ],
   "id": "4705644fcc1c6cbd",
   "outputs": [
    {
     "name": "stdout",
     "output_type": "stream",
     "text": [
      "(0.3, 8.3, 6.3, 4.3, 2.3)\n"
     ]
    }
   ],
   "execution_count": 36
  },
  {
   "metadata": {},
   "cell_type": "markdown",
   "source": "VI. Множини (Set).\n",
   "id": "25b773a4a0c7ddfb"
  },
  {
   "metadata": {},
   "cell_type": "markdown",
   "source": "17.Створити множину без елементів. Після цого за допомогою методу додайте кілька різних елементів до множини. Чи множини є змінним типом даних?",
   "id": "d926ed5e27b4fa89"
  },
  {
   "metadata": {
    "ExecuteTime": {
     "end_time": "2024-04-09T11:05:59.816049Z",
     "start_time": "2024-04-09T11:05:59.809572Z"
    }
   },
   "cell_type": "code",
   "source": [
    "set17 = set()\n",
    "set17.add(1)\n",
    "set17.add(3)\n",
    "set17.add(6)\n",
    "print(set17)"
   ],
   "id": "20d866e5c4cac6fe",
   "outputs": [
    {
     "name": "stdout",
     "output_type": "stream",
     "text": [
      "{1, 3, 6}\n"
     ]
    }
   ],
   "execution_count": 37
  },
  {
   "metadata": {},
   "cell_type": "markdown",
   "source": "Ні, незмінним.\n",
   "id": "38f38116ffaa562"
  },
  {
   "metadata": {},
   "cell_type": "markdown",
   "source": "18.Створити множину, маючи список my_list = [1, 1, 2, 67, 67, 8, 9]. Пояснити, чому \"зникли\" деякі елементи.",
   "id": "21d4e6cf70a59260"
  },
  {
   "metadata": {
    "ExecuteTime": {
     "end_time": "2024-04-09T11:07:01.982252Z",
     "start_time": "2024-04-09T11:07:01.973825Z"
    }
   },
   "cell_type": "code",
   "source": [
    "list18 = [1, 1, 2, 67, 67, 8, 9]\n",
    "set18 = set(list18)\n",
    "print(set18)"
   ],
   "id": "ad7873f757083a6b",
   "outputs": [
    {
     "name": "stdout",
     "output_type": "stream",
     "text": [
      "{1, 2, 67, 8, 9}\n"
     ]
    }
   ],
   "execution_count": 38
  },
  {
   "metadata": {},
   "cell_type": "markdown",
   "source": "Бо елементи дублюються, а в множині не можу бути два одинакових елементи",
   "id": "9f6d605a2500bd2a"
  },
  {
   "metadata": {},
   "cell_type": "markdown",
   "source": "19.Створіть дві множини. Продемонстуйте над ними операції: обʼєднання, різниці, пересічі та симетричної різниці. Використовуйте методи, що не змінюють множини, а створюють нові.",
   "id": "bf8addae19d0fb7d"
  },
  {
   "metadata": {
    "ExecuteTime": {
     "end_time": "2024-04-09T11:09:07.773769Z",
     "start_time": "2024-04-09T11:09:07.765233Z"
    }
   },
   "cell_type": "code",
   "source": [
    "set19_1 = {-9, -7, -5, 0, 3, 5, 11}\n",
    "set19_2 = {8, 10, 20, -16, 5, 3, 6, 7}\n",
    "union19 = set19_1.union(set19_2)\n",
    "difference19 = set19_1.difference(set19_2)\n",
    "intersection19 = set19_1.intersection(set19_2)\n",
    "symdifference19 = set19_1.symmetric_difference(set19_2)\n",
    "\n",
    "print(union19)\n",
    "print(difference19)\n",
    "print(intersection19)\n",
    "print(symdifference19)"
   ],
   "id": "c2a81cec78c8ffc4",
   "outputs": [
    {
     "name": "stdout",
     "output_type": "stream",
     "text": [
      "{0, 3, 5, 6, 7, 8, 10, 11, -16, 20, -9, -7, -5}\n",
      "{0, 11, -9, -7, -5}\n",
      "{3, 5}\n",
      "{0, 6, 7, 8, 10, 11, -16, 20, -9, -7, -5}\n"
     ]
    }
   ],
   "execution_count": 39
  },
  {
   "metadata": {},
   "cell_type": "markdown",
   "source": "VII. Словники (Dictionary).",
   "id": "f271e98358dd2818"
  },
  {
   "metadata": {},
   "cell_type": "markdown",
   "source": "20.Створіть пустий словник. До нього додайте чотири пари елементів такі, щоб їхні ключі були різних типів. Чи може список бути ключем? Чому?",
   "id": "b225d63ec182ae32"
  },
  {
   "metadata": {
    "ExecuteTime": {
     "end_time": "2024-04-09T11:10:47.086085Z",
     "start_time": "2024-04-09T11:10:47.076641Z"
    }
   },
   "cell_type": "code",
   "source": [
    "dict20 = dict()\n",
    "dict20[True] = \"boolean\" \n",
    "dict20[3.7] = \"float\"\n",
    "dict20[10] = \"int\"\n",
    "dict20[\"a\"] = \"string\"\n",
    "\n",
    "print(dict20)"
   ],
   "id": "151caac293a458c6",
   "outputs": [
    {
     "name": "stdout",
     "output_type": "stream",
     "text": [
      "{True: 'boolean', 3.7: 'float', 10: 'int', 'a': 'string'}\n"
     ]
    }
   ],
   "execution_count": 40
  },
  {
   "metadata": {},
   "cell_type": "markdown",
   "source": "Ні, бо їх можна змінити.",
   "id": "9916778d1c4bbf2b"
  },
  {
   "metadata": {},
   "cell_type": "markdown",
   "source": "21.Створіть словник, де значенням в одній з пар теж буде словник, який теж має вкладений словник. Виведіть на екран значення, що міститься в словнику, що знаходиться на найнижчому рівні ієрархії вкладеності (найбільш внутрішній).",
   "id": "b13f1e655e6213b9"
  },
  {
   "metadata": {
    "ExecuteTime": {
     "end_time": "2024-04-09T11:12:13.349944Z",
     "start_time": "2024-04-09T11:12:13.341104Z"
    }
   },
   "cell_type": "code",
   "source": [
    "dict21 = {\"a\": \"b\", \"c\" : {\"d\" : {\"e\": \"f\"}}}\n",
    "print(dict21[\"c\"][\"d\"][\"e\"])"
   ],
   "id": "b3e37346a9668864",
   "outputs": [
    {
     "name": "stdout",
     "output_type": "stream",
     "text": [
      "f\n"
     ]
    }
   ],
   "execution_count": 41
  }
 ],
 "metadata": {
  "kernelspec": {
   "display_name": "Python 3",
   "language": "python",
   "name": "python3"
  },
  "language_info": {
   "codemirror_mode": {
    "name": "ipython",
    "version": 2
   },
   "file_extension": ".py",
   "mimetype": "text/x-python",
   "name": "python",
   "nbconvert_exporter": "python",
   "pygments_lexer": "ipython2",
   "version": "2.7.6"
  }
 },
 "nbformat": 4,
 "nbformat_minor": 5
}
